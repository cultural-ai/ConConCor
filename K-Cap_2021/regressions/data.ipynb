{
 "cells": [
  {
   "cell_type": "code",
   "execution_count": 1,
   "id": "53632a4c",
   "metadata": {},
   "outputs": [],
   "source": [
    "from tqdm import tqdm\n",
    "import joblib\n",
    "from collections import Counter\n",
    "\n",
    "import pandas as pd\n",
    "import numpy as np\n",
    "\n",
    "from sklearn.feature_extraction.text import TfidfVectorizer, CountVectorizer\n",
    "from scipy import sparse\n",
    "\n",
    "import matplotlib.pyplot as plt\n",
    "import seaborn as sns\n",
    "\n",
    "from sklearn.decomposition import PCA\n",
    "# from umap import UMAP\n",
    "\n",
    "from sklearn.preprocessing import StandardScaler\n",
    "\n",
    "from utils import get_DF #, get_data_XY, w2v, train_test_split\n",
    "\n",
    "from sklearn.linear_model import LogisticRegression, LogisticRegressionCV"
   ]
  },
  {
   "cell_type": "code",
   "execution_count": null,
   "id": "12218f8e",
   "metadata": {},
   "outputs": [],
   "source": [
    "# df = get_DF()"
   ]
  },
  {
   "cell_type": "code",
   "execution_count": 2,
   "id": "442bce09",
   "metadata": {},
   "outputs": [
    {
     "name": "stdout",
     "output_type": "stream",
     "text": [
      "Loading \"vectors/tfidf_0.15.pkl\"\n",
      "(2614337, 210218)\n"
     ]
    }
   ],
   "source": [
    "load = 237007\n",
    "load = \"\"\n",
    "load = \"_0.15\"\n",
    "# load = None\n",
    "\n",
    "sentence_percent = 0.15\n",
    "\n",
    "min_df, max_df = 3, 0.7\n",
    "\n",
    "\n",
    "if load is None:\n",
    "    with open(\"data/sents.txt\") as handle:\n",
    "        sents = [s for s in tqdm(handle) if len(s.strip()) > 1]\n",
    "        \n",
    "    downsample = np.random.choice(len(sents), size=int(len(sents)*sentence_percent))\n",
    "    downsample = (sents[i] for i in tqdm(downsample))\n",
    "    \n",
    "    print(\"downsampled\")\n",
    "    tfidf = TfidfVectorizer(max_df=max_df, min_df=min_df) #max_features=100000, \n",
    "    mat = tfidf.fit_transform(downsample)\n",
    "    print(\"matrix shape\", mat.shape)\n",
    "\n",
    "    tfidf.stop_words_ = None\n",
    "    joblib.dump(tfidf, \"vectors/tfidf_0.15.pkl\")\n",
    "    sparse.save_npz('vectors/tfidf_mat_0.15.npz', mat)\n",
    "    \n",
    "else:\n",
    "    print(f'Loading \"vectors/tfidf{load}.pkl\"')\n",
    "    tfidf = joblib.load(f'vectors/tfidf{load}.pkl')\n",
    "    mat = sparse.load_npz(f'vectors/tfidf_mat{load}.npz')\n",
    "    print(mat.shape)"
   ]
  },
  {
   "cell_type": "markdown",
   "id": "59a47805",
   "metadata": {},
   "source": [
    "---\n",
    "# Dimensionality Reduction"
   ]
  },
  {
   "cell_type": "code",
   "execution_count": 3,
   "id": "a2435b24",
   "metadata": {},
   "outputs": [
    {
     "data": {
      "text/plain": [
       "(5.585744556423985e-05, 82320180480)"
      ]
     },
     "execution_count": 3,
     "metadata": {},
     "output_type": "execute_result"
    }
   ],
   "source": [
    "from sklearn.decomposition import PCA, TruncatedSVD\n",
    "\n",
    "\n",
    "svd = TruncatedSVD(n_components=100)\n",
    "svdmat = svd.fit_transform(mat.T)\n",
    "\n",
    "4598195/(871445*94464), 871445*94464"
   ]
  },
  {
   "cell_type": "code",
   "execution_count": 4,
   "id": "f16b8933",
   "metadata": {},
   "outputs": [
    {
     "data": {
      "text/plain": [
       "((210218, 100),\n",
       " (2614337, 210218),\n",
       " 14166050,\n",
       " 0.44155686002150146,\n",
       " 2.577610552348156e-05)"
      ]
     },
     "execution_count": 4,
     "metadata": {},
     "output_type": "execute_result"
    }
   ],
   "source": [
    "svdmat.shape, mat.shape, mat.size, (svdmat > 0.00001).sum()/svdmat.size, mat.size/(mat.shape[0]*mat.shape[1])"
   ]
  },
  {
   "cell_type": "code",
   "execution_count": 5,
   "id": "8138c491",
   "metadata": {},
   "outputs": [
    {
     "data": {
      "text/plain": [
       "210218"
      ]
     },
     "execution_count": 5,
     "metadata": {},
     "output_type": "execute_result"
    }
   ],
   "source": [
    "len(tfidf.get_feature_names())"
   ]
  },
  {
   "cell_type": "code",
   "execution_count": 6,
   "id": "fbab1924",
   "metadata": {},
   "outputs": [],
   "source": [
    "np.savetxt(\"svd_mat_0.15.tsv\", svdmat, delimiter=\"\\t\")"
   ]
  },
  {
   "cell_type": "code",
   "execution_count": null,
   "id": "9f72fd72",
   "metadata": {},
   "outputs": [],
   "source": [
    "from umap import UMAP\n",
    "\n",
    "\n",
    "umap = UMAP(\n",
    "        n_neighbors=15, min_dist=0.1, n_components=2, metric='euclidean',\n",
    "        verbose=True\n",
    "    )\n",
    "\n",
    "orig_n = mat.T.shape[0]\n",
    "rand_inds = np.random.randint(orig_n, size=orig_n//10)\n",
    "umat = umap.fit_transform(mat.T)"
   ]
  }
 ],
 "metadata": {
  "kernelspec": {
   "display_name": "Python 3",
   "language": "python",
   "name": "python3"
  },
  "language_info": {
   "codemirror_mode": {
    "name": "ipython",
    "version": 3
   },
   "file_extension": ".py",
   "mimetype": "text/x-python",
   "name": "python",
   "nbconvert_exporter": "python",
   "pygments_lexer": "ipython3",
   "version": "3.9.6"
  }
 },
 "nbformat": 4,
 "nbformat_minor": 5
}
