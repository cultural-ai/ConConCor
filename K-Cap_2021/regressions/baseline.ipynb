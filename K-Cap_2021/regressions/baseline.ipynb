{
 "cells": [
  {
   "cell_type": "code",
   "execution_count": 8,
   "id": "bc98997e",
   "metadata": {},
   "outputs": [],
   "source": [
    "from tqdm import tqdm\n",
    "import joblib\n",
    "from collections import Counter\n",
    "\n",
    "import pandas as pd\n",
    "import numpy as np\n",
    "\n",
    "\n",
    "import matplotlib.pyplot as plt\n",
    "import seaborn as sns\n",
    "\n",
    "from sklearn.preprocessing import StandardScaler\n",
    "\n",
    "from utils import get_DF, get_indices\n",
    "\n",
    "from sklearn.linear_model import LogisticRegression, LogisticRegressionCV\n",
    "from sklearn.model_selection import GridSearchCV\n",
    "\n",
    "from sklearn.metrics import balanced_accuracy_score, classification_report, accuracy_score,\\\n",
    "                                confusion_matrix, plot_roc_curve, roc_auc_score, recall_score, precision_score"
   ]
  },
  {
   "cell_type": "code",
   "execution_count": 2,
   "id": "38142fc8",
   "metadata": {},
   "outputs": [
    {
     "name": "stderr",
     "output_type": "stream",
     "text": [
      "100%|██████████| 91/91 [00:00<00:00, 104.46it/s]\n"
     ]
    }
   ],
   "source": [
    "df = get_DF()\n",
    "\n",
    "tfidf = joblib.load(f'vectors/tfidf_0.15.pkl')\n",
    "mat = pd.read_csv(\"vectors/svd_mat_0.15.tsv\", delimiter=\"\\t\", header=None).to_numpy()\n",
    "scaled = StandardScaler(with_mean=False).fit_transform(mat)\n",
    "\n",
    "tfidf_words = tfidf.get_feature_names()\n",
    "mat_inds = get_indices(df.target.unique(), tfidf_words)\n",
    "df[\"mat_ind\"] = df.target.apply(lambda w: mat_inds[w] if w in mat_inds else -1)\n",
    "df = df[df.mat_ind > -1]"
   ]
  },
  {
   "cell_type": "code",
   "execution_count": 3,
   "id": "640caa69",
   "metadata": {},
   "outputs": [],
   "source": [
    "target_annotations = {x:list(subdf.y) for x, subdf in df.groupby([\"annotator_x\", \"target\"])}\n",
    "xs, y = list(zip(*target_annotations.items()))\n",
    "x_anno, x_target = list(zip(*xs))\n",
    "\n",
    "mldf = pd.DataFrame([x_anno, x_target, y]).T\n",
    "mldf.columns = [\"x_anno\", \"target\", \"y_ls\"]\n",
    "\n",
    "mldf[\"ratio\"] = mldf.y_ls.apply(lambda ls: sum(ls)/len(ls))\n",
    "# mldf = mldf[mldf.ratio != 0.5]\n",
    "mldf[\"maj_vote\"] = mldf.ratio.apply(lambda r: int(r > 0.5))\n",
    "\n",
    "mldf = pd.concat([mldf, pd.get_dummies(mldf[\"x_anno\"])], axis=1)"
   ]
  },
  {
   "cell_type": "markdown",
   "id": "3f82b8d0",
   "metadata": {},
   "source": [
    "---"
   ]
  },
  {
   "cell_type": "code",
   "execution_count": 4,
   "id": "6b6cc0e9",
   "metadata": {},
   "outputs": [],
   "source": [
    "anno_prior = {}\n",
    "\n",
    "for a, subdf in mldf.groupby(\"x_anno\"):\n",
    "    ys = [y for ls in subdf.y_ls for y in ls]    \n",
    "    anno_prior[a] = sum(ys)/len(ys)"
   ]
  },
  {
   "cell_type": "code",
   "execution_count": 9,
   "id": "06c443a0",
   "metadata": {},
   "outputs": [
    {
     "name": "stderr",
     "output_type": "stream",
     "text": [
      "  2%|▏         | 2/100 [00:00<00:08, 11.27it/s]"
     ]
    },
    {
     "name": "stdout",
     "output_type": "stream",
     "text": [
      "              precision    recall  f1-score   support\n",
      "\n",
      "           0       0.59      0.96      0.73      1200\n",
      "           1       0.65      0.10      0.17       877\n",
      "\n",
      "    accuracy                           0.60      2077\n",
      "   macro avg       0.62      0.53      0.45      2077\n",
      "weighted avg       0.62      0.60      0.50      2077\n",
      "\n",
      "[[1155   45]\n",
      " [ 792   85]]\n",
      "              precision    recall  f1-score   support\n",
      "\n",
      "           0       0.68      0.95      0.80      1245\n",
      "           1       0.56      0.12      0.19       620\n",
      "\n",
      "    accuracy                           0.68      1865\n",
      "   macro avg       0.62      0.54      0.50      1865\n",
      "weighted avg       0.64      0.68      0.60      1865\n",
      "\n",
      "[[1188   57]\n",
      " [ 547   73]]\n",
      "              precision    recall  f1-score   support\n",
      "\n",
      "           0       0.60      0.97      0.74      1325\n",
      "           1       0.71      0.11      0.18       954\n",
      "\n",
      "    accuracy                           0.61      2279\n",
      "   macro avg       0.66      0.54      0.46      2279\n",
      "weighted avg       0.65      0.61      0.51      2279\n",
      "\n",
      "[[1284   41]\n",
      " [ 853  101]]\n"
     ]
    },
    {
     "name": "stderr",
     "output_type": "stream",
     "text": [
      "  6%|▌         | 6/100 [00:00<00:07, 13.26it/s]"
     ]
    },
    {
     "name": "stdout",
     "output_type": "stream",
     "text": [
      "              precision    recall  f1-score   support\n",
      "\n",
      "           0       0.83      0.97      0.89      1386\n",
      "           1       0.66      0.22      0.33       361\n",
      "\n",
      "    accuracy                           0.82      1747\n",
      "   macro avg       0.75      0.59      0.61      1747\n",
      "weighted avg       0.79      0.82      0.78      1747\n",
      "\n",
      "[[1346   40]\n",
      " [ 282   79]]\n",
      "              precision    recall  f1-score   support\n",
      "\n",
      "           0       0.76      0.96      0.85      1585\n",
      "           1       0.56      0.14      0.23       552\n",
      "\n",
      "    accuracy                           0.75      2137\n",
      "   macro avg       0.66      0.55      0.54      2137\n",
      "weighted avg       0.71      0.75      0.69      2137\n",
      "\n",
      "[[1522   63]\n",
      " [ 473   79]]\n",
      "              precision    recall  f1-score   support\n",
      "\n",
      "           0       0.72      0.96      0.82      1489\n",
      "           1       0.57      0.12      0.19       637\n",
      "\n",
      "    accuracy                           0.71      2126\n",
      "   macro avg       0.65      0.54      0.51      2126\n",
      "weighted avg       0.67      0.71      0.63      2126\n",
      "\n",
      "[[1434   55]\n",
      " [ 563   74]]\n",
      "              precision    recall  f1-score   support\n",
      "\n",
      "           0       0.57      0.96      0.71      1435\n",
      "           1       0.63      0.09      0.16      1154\n",
      "\n",
      "    accuracy                           0.57      2589\n",
      "   macro avg       0.60      0.52      0.43      2589\n",
      "weighted avg       0.59      0.57      0.46      2589\n",
      "\n"
     ]
    },
    {
     "name": "stderr",
     "output_type": "stream",
     "text": [
      " 10%|█         | 10/100 [00:00<00:06, 14.53it/s]"
     ]
    },
    {
     "name": "stdout",
     "output_type": "stream",
     "text": [
      "[[1374   61]\n",
      " [1051  103]]\n",
      "              precision    recall  f1-score   support\n",
      "\n",
      "           0       0.85      0.96      0.90      1684\n",
      "           1       0.44      0.15      0.23       348\n",
      "\n",
      "    accuracy                           0.82      2032\n",
      "   macro avg       0.64      0.56      0.56      2032\n",
      "weighted avg       0.78      0.82      0.78      2032\n",
      "\n",
      "[[1617   67]\n",
      " [ 295   53]]\n",
      "              precision    recall  f1-score   support\n",
      "\n",
      "           0       0.54      0.96      0.70      1233\n",
      "           1       0.68      0.09      0.16      1093\n",
      "\n",
      "    accuracy                           0.55      2326\n",
      "   macro avg       0.61      0.53      0.43      2326\n",
      "weighted avg       0.61      0.55      0.44      2326\n",
      "\n",
      "[[1187   46]\n",
      " [ 995   98]]\n",
      "              precision    recall  f1-score   support\n",
      "\n",
      "           0       0.85      0.96      0.90      1811\n",
      "           1       0.54      0.20      0.29       378\n",
      "\n",
      "    accuracy                           0.83      2189\n",
      "   macro avg       0.69      0.58      0.60      2189\n",
      "weighted avg       0.80      0.83      0.80      2189\n",
      "\n",
      "[[1747   64]\n",
      " [ 304   74]]\n"
     ]
    },
    {
     "name": "stderr",
     "output_type": "stream",
     "text": [
      "\r",
      " 12%|█▏        | 12/100 [00:00<00:05, 14.73it/s]"
     ]
    },
    {
     "name": "stdout",
     "output_type": "stream",
     "text": [
      "              precision    recall  f1-score   support\n",
      "\n",
      "           0       0.78      0.97      0.86      1410\n",
      "           1       0.57      0.14      0.23       460\n",
      "\n",
      "    accuracy                           0.76      1870\n",
      "   macro avg       0.67      0.55      0.54      1870\n",
      "weighted avg       0.73      0.76      0.70      1870\n",
      "\n",
      "[[1361   49]\n",
      " [ 394   66]]\n",
      "              precision    recall  f1-score   support\n",
      "\n",
      "           0       0.77      0.96      0.86      1616\n",
      "           1       0.54      0.14      0.22       535\n",
      "\n",
      "    accuracy                           0.76      2151\n",
      "   macro avg       0.66      0.55      0.54      2151\n",
      "weighted avg       0.71      0.76      0.70      2151\n",
      "\n",
      "[[1553   63]\n",
      " [ 461   74]]\n",
      "              precision    recall  f1-score   support\n",
      "\n",
      "           0       0.70      0.97      0.81      1097\n",
      "           1       0.64      0.12      0.21       522\n",
      "\n",
      "    accuracy                           0.70      1619\n",
      "   macro avg       0.67      0.55      0.51      1619\n",
      "weighted avg       0.68      0.70      0.62      1619\n",
      "\n",
      "[[1061   36]\n",
      " [ 457   65]]\n"
     ]
    },
    {
     "name": "stderr",
     "output_type": "stream",
     "text": [
      " 16%|█▌        | 16/100 [00:01<00:07, 11.78it/s]"
     ]
    },
    {
     "name": "stdout",
     "output_type": "stream",
     "text": [
      "              precision    recall  f1-score   support\n",
      "\n",
      "           0       0.75      0.96      0.84      1283\n",
      "           1       0.57      0.14      0.23       487\n",
      "\n",
      "    accuracy                           0.74      1770\n",
      "   macro avg       0.66      0.55      0.53      1770\n",
      "weighted avg       0.70      0.74      0.67      1770\n",
      "\n",
      "[[1232   51]\n",
      " [ 418   69]]\n",
      "              precision    recall  f1-score   support\n",
      "\n",
      "           0       0.61      0.96      0.74      1057\n",
      "           1       0.63      0.09      0.16       728\n",
      "\n",
      "    accuracy                           0.61      1785\n",
      "   macro avg       0.62      0.53      0.45      1785\n",
      "weighted avg       0.62      0.61      0.51      1785\n",
      "\n",
      "[[1018   39]\n",
      " [ 662   66]]\n",
      "              precision    recall  f1-score   support\n",
      "\n",
      "           0       0.84      0.96      0.90      1371\n",
      "           1       0.52      0.19      0.28       305\n",
      "\n",
      "    accuracy                           0.82      1676\n",
      "   macro avg       0.68      0.58      0.59      1676\n",
      "weighted avg       0.78      0.82      0.79      1676\n",
      "\n",
      "[[1317   54]\n",
      " [ 246   59]]\n"
     ]
    },
    {
     "name": "stderr",
     "output_type": "stream",
     "text": [
      "\r",
      " 18%|█▊        | 18/100 [00:01<00:06, 11.72it/s]"
     ]
    },
    {
     "name": "stdout",
     "output_type": "stream",
     "text": [
      "              precision    recall  f1-score   support\n",
      "\n",
      "           0       0.87      0.96      0.91      2043\n",
      "           1       0.48      0.20      0.28       365\n",
      "\n",
      "    accuracy                           0.85      2408\n",
      "   macro avg       0.67      0.58      0.60      2408\n",
      "weighted avg       0.81      0.85      0.82      2408\n",
      "\n",
      "[[1962   81]\n",
      " [ 291   74]]\n",
      "              precision    recall  f1-score   support\n",
      "\n",
      "           0       0.74      0.96      0.84      1653\n",
      "           1       0.58      0.13      0.21       644\n",
      "\n",
      "    accuracy                           0.73      2297\n",
      "   macro avg       0.66      0.55      0.52      2297\n",
      "weighted avg       0.69      0.73      0.66      2297\n",
      "\n",
      "[[1592   61]\n",
      " [ 561   83]]\n",
      "              precision    recall  f1-score   support\n",
      "\n",
      "           0       0.65      0.97      0.78       959\n",
      "           1       0.70      0.11      0.19       552\n",
      "\n",
      "    accuracy                           0.66      1511\n",
      "   macro avg       0.68      0.54      0.48      1511\n",
      "weighted avg       0.67      0.66      0.56      1511\n",
      "\n",
      "[[934  25]\n",
      " [493  59]]\n"
     ]
    },
    {
     "name": "stderr",
     "output_type": "stream",
     "text": [
      "\r",
      " 20%|██        | 20/100 [00:01<00:06, 11.45it/s]"
     ]
    },
    {
     "name": "stdout",
     "output_type": "stream",
     "text": [
      "              precision    recall  f1-score   support\n",
      "\n",
      "           0       0.75      0.97      0.84      1278\n",
      "           1       0.59      0.12      0.20       471\n",
      "\n",
      "    accuracy                           0.74      1749\n",
      "   macro avg       0.67      0.55      0.52      1749\n",
      "weighted avg       0.71      0.74      0.67      1749\n",
      "\n",
      "[[1237   41]\n",
      " [ 413   58]]\n",
      "              precision    recall  f1-score   support\n",
      "\n",
      "           0       0.83      0.97      0.89      1896\n",
      "           1       0.59      0.19      0.28       463\n",
      "\n",
      "    accuracy                           0.82      2359\n",
      "   macro avg       0.71      0.58      0.59      2359\n",
      "weighted avg       0.78      0.82      0.77      2359\n",
      "\n",
      "[[1837   59]\n",
      " [ 377   86]]\n",
      "              precision    recall  f1-score   support\n",
      "\n",
      "           0       0.72      0.96      0.82      1763\n",
      "           1       0.57      0.12      0.20       764\n",
      "\n",
      "    accuracy                           0.71      2527\n",
      "   macro avg       0.64      0.54      0.51      2527\n",
      "weighted avg       0.67      0.71      0.63      2527\n",
      "\n"
     ]
    },
    {
     "name": "stderr",
     "output_type": "stream",
     "text": [
      " 24%|██▍       | 24/100 [00:01<00:06, 11.26it/s]"
     ]
    },
    {
     "name": "stdout",
     "output_type": "stream",
     "text": [
      "[[1693   70]\n",
      " [ 673   91]]\n",
      "              precision    recall  f1-score   support\n",
      "\n",
      "           0       0.74      0.97      0.84      1293\n",
      "           1       0.64      0.14      0.24       519\n",
      "\n",
      "    accuracy                           0.73      1812\n",
      "   macro avg       0.69      0.56      0.54      1812\n",
      "weighted avg       0.71      0.73      0.66      1812\n",
      "\n",
      "[[1250   43]\n",
      " [ 444   75]]\n",
      "              precision    recall  f1-score   support\n",
      "\n",
      "           0       0.80      0.96      0.87      1437\n",
      "           1       0.54      0.16      0.25       408\n",
      "\n",
      "    accuracy                           0.78      1845\n",
      "   macro avg       0.67      0.56      0.56      1845\n",
      "weighted avg       0.75      0.78      0.74      1845\n",
      "\n",
      "[[1381   56]\n",
      " [ 341   67]]\n"
     ]
    },
    {
     "name": "stderr",
     "output_type": "stream",
     "text": [
      "\r",
      " 26%|██▌       | 26/100 [00:02<00:06, 11.53it/s]"
     ]
    },
    {
     "name": "stdout",
     "output_type": "stream",
     "text": [
      "              precision    recall  f1-score   support\n",
      "\n",
      "           0       0.54      0.96      0.69      1015\n",
      "           1       0.65      0.08      0.15       901\n",
      "\n",
      "    accuracy                           0.55      1916\n",
      "   macro avg       0.60      0.52      0.42      1916\n",
      "weighted avg       0.59      0.55      0.44      1916\n",
      "\n",
      "[[975  40]\n",
      " [826  75]]\n",
      "              precision    recall  f1-score   support\n",
      "\n",
      "           0       0.66      0.96      0.78      1487\n",
      "           1       0.60      0.11      0.18       834\n",
      "\n",
      "    accuracy                           0.65      2321\n",
      "   macro avg       0.63      0.53      0.48      2321\n",
      "weighted avg       0.64      0.65      0.56      2321\n",
      "\n",
      "[[1428   59]\n",
      " [ 746   88]]\n",
      "              precision    recall  f1-score   support\n",
      "\n",
      "           0       0.69      0.97      0.80      1277\n",
      "           1       0.64      0.12      0.21       633\n",
      "\n",
      "    accuracy                           0.69      1910\n",
      "   macro avg       0.66      0.54      0.51      1910\n",
      "weighted avg       0.67      0.69      0.61      1910\n",
      "\n",
      "[[1233   44]\n",
      " [ 555   78]]\n"
     ]
    },
    {
     "name": "stderr",
     "output_type": "stream",
     "text": [
      " 30%|███       | 30/100 [00:02<00:05, 12.55it/s]"
     ]
    },
    {
     "name": "stdout",
     "output_type": "stream",
     "text": [
      "              precision    recall  f1-score   support\n",
      "\n",
      "           0       0.77      0.97      0.86      1382\n",
      "           1       0.67      0.15      0.25       480\n",
      "\n",
      "    accuracy                           0.76      1862\n",
      "   macro avg       0.72      0.56      0.55      1862\n",
      "weighted avg       0.74      0.76      0.70      1862\n",
      "\n",
      "[[1346   36]\n",
      " [ 407   73]]\n",
      "              precision    recall  f1-score   support\n",
      "\n",
      "           0       0.72      0.96      0.82      1682\n",
      "           1       0.59      0.13      0.21       727\n",
      "\n",
      "    accuracy                           0.71      2409\n",
      "   macro avg       0.66      0.54      0.52      2409\n",
      "weighted avg       0.68      0.71      0.64      2409\n",
      "\n",
      "[[1618   64]\n",
      " [ 634   93]]\n",
      "              precision    recall  f1-score   support\n",
      "\n",
      "           0       0.66      0.96      0.79      1410\n",
      "           1       0.59      0.10      0.17       766\n",
      "\n",
      "    accuracy                           0.66      2176\n",
      "   macro avg       0.63      0.53      0.48      2176\n",
      "weighted avg       0.64      0.66      0.57      2176\n",
      "\n",
      "[[1357   53]\n",
      " [ 690   76]]\n"
     ]
    },
    {
     "name": "stderr",
     "output_type": "stream",
     "text": [
      "\r",
      " 32%|███▏      | 32/100 [00:02<00:05, 12.17it/s]"
     ]
    },
    {
     "name": "stdout",
     "output_type": "stream",
     "text": [
      "              precision    recall  f1-score   support\n",
      "\n",
      "           0       0.68      0.96      0.80      1790\n",
      "           1       0.59      0.11      0.18       909\n",
      "\n",
      "    accuracy                           0.67      2699\n",
      "   macro avg       0.63      0.54      0.49      2699\n",
      "weighted avg       0.65      0.67      0.59      2699\n",
      "\n",
      "[[1721   69]\n",
      " [ 810   99]]\n",
      "              precision    recall  f1-score   support\n",
      "\n",
      "           0       0.74      0.97      0.84      1227\n",
      "           1       0.63      0.13      0.21       477\n",
      "\n",
      "    accuracy                           0.73      1704\n",
      "   macro avg       0.68      0.55      0.53      1704\n",
      "weighted avg       0.71      0.73      0.66      1704\n",
      "\n",
      "[[1191   36]\n",
      " [ 416   61]]\n",
      "              precision    recall  f1-score   support\n",
      "\n",
      "           0       0.59      0.96      0.73      1461\n",
      "           1       0.59      0.09      0.15      1048\n",
      "\n",
      "    accuracy                           0.59      2509\n",
      "   macro avg       0.59      0.52      0.44      2509\n",
      "weighted avg       0.59      0.59      0.49      2509\n",
      "\n",
      "[[1397   64]\n",
      " [ 956   92]]\n"
     ]
    },
    {
     "name": "stderr",
     "output_type": "stream",
     "text": [
      " 36%|███▌      | 36/100 [00:02<00:04, 13.01it/s]"
     ]
    },
    {
     "name": "stdout",
     "output_type": "stream",
     "text": [
      "              precision    recall  f1-score   support\n",
      "\n",
      "           0       0.71      0.96      0.82      1494\n",
      "           1       0.63      0.13      0.22       682\n",
      "\n",
      "    accuracy                           0.70      2176\n",
      "   macro avg       0.67      0.55      0.52      2176\n",
      "weighted avg       0.68      0.70      0.63      2176\n",
      "\n",
      "[[1441   53]\n",
      " [ 591   91]]\n",
      "              precision    recall  f1-score   support\n",
      "\n",
      "           0       0.73      0.96      0.83      1715\n",
      "           1       0.50      0.11      0.18       693\n",
      "\n",
      "    accuracy                           0.71      2408\n",
      "   macro avg       0.61      0.53      0.50      2408\n",
      "weighted avg       0.66      0.71      0.64      2408\n",
      "\n",
      "[[1639   76]\n",
      " [ 617   76]]\n",
      "              precision    recall  f1-score   support\n",
      "\n",
      "           0       0.80      0.96      0.87      1368\n",
      "           1       0.59      0.17      0.26       407\n",
      "\n",
      "    accuracy                           0.78      1775\n",
      "   macro avg       0.69      0.57      0.57      1775\n",
      "weighted avg       0.75      0.78      0.73      1775\n",
      "\n",
      "[[1320   48]\n",
      " [ 339   68]]\n"
     ]
    },
    {
     "name": "stderr",
     "output_type": "stream",
     "text": [
      " 40%|████      | 40/100 [00:03<00:04, 13.82it/s]"
     ]
    },
    {
     "name": "stdout",
     "output_type": "stream",
     "text": [
      "              precision    recall  f1-score   support\n",
      "\n",
      "           0       0.71      0.97      0.82      1203\n",
      "           1       0.69      0.14      0.23       549\n",
      "\n",
      "    accuracy                           0.71      1752\n",
      "   macro avg       0.70      0.56      0.53      1752\n",
      "weighted avg       0.71      0.71      0.64      1752\n",
      "\n",
      "[[1169   34]\n",
      " [ 472   77]]\n",
      "              precision    recall  f1-score   support\n",
      "\n",
      "           0       0.42      0.97      0.59       796\n",
      "           1       0.79      0.08      0.15      1149\n",
      "\n",
      "    accuracy                           0.44      1945\n",
      "   macro avg       0.61      0.53      0.37      1945\n",
      "weighted avg       0.64      0.44      0.33      1945\n",
      "\n",
      "[[ 771   25]\n",
      " [1055   94]]\n",
      "              precision    recall  f1-score   support\n",
      "\n",
      "           0       0.67      0.97      0.79       998\n",
      "           1       0.74      0.14      0.23       566\n",
      "\n",
      "    accuracy                           0.67      1564\n",
      "   macro avg       0.70      0.55      0.51      1564\n",
      "weighted avg       0.69      0.67      0.59      1564\n",
      "\n",
      "[[970  28]\n",
      " [488  78]]\n",
      "              precision    recall  f1-score   support\n",
      "\n",
      "           0       0.74      0.97      0.84      1614\n",
      "           1       0.63      0.14      0.23       641\n",
      "\n",
      "    accuracy                           0.73      2255\n",
      "   macro avg       0.68      0.55      0.54      2255\n",
      "weighted avg       0.71      0.73      0.67      2255\n",
      "\n",
      "[[1559   55]\n",
      " [ 549   92]]\n"
     ]
    },
    {
     "name": "stderr",
     "output_type": "stream",
     "text": [
      "\r",
      " 42%|████▏     | 42/100 [00:03<00:04, 12.86it/s]"
     ]
    },
    {
     "name": "stdout",
     "output_type": "stream",
     "text": [
      "              precision    recall  f1-score   support\n",
      "\n",
      "           0       0.79      0.96      0.87      1302\n",
      "           1       0.56      0.16      0.25       401\n",
      "\n",
      "    accuracy                           0.77      1703\n",
      "   macro avg       0.67      0.56      0.56      1703\n",
      "weighted avg       0.73      0.77      0.72      1703\n",
      "\n",
      "[[1252   50]\n",
      " [ 338   63]]\n",
      "              precision    recall  f1-score   support\n",
      "\n",
      "           0       0.78      0.97      0.86      1349\n",
      "           1       0.65      0.17      0.27       445\n",
      "\n",
      "    accuracy                           0.77      1794\n",
      "   macro avg       0.71      0.57      0.57      1794\n",
      "weighted avg       0.75      0.77      0.72      1794\n",
      "\n",
      "[[1308   41]\n",
      " [ 369   76]]\n",
      "              precision    recall  f1-score   support\n",
      "\n",
      "           0       0.77      0.96      0.85      1948\n",
      "           1       0.50      0.13      0.21       643\n",
      "\n",
      "    accuracy                           0.75      2591\n",
      "   macro avg       0.63      0.54      0.53      2591\n",
      "weighted avg       0.70      0.75      0.69      2591\n",
      "\n",
      "[[1862   86]\n",
      " [ 558   85]]\n"
     ]
    },
    {
     "name": "stderr",
     "output_type": "stream",
     "text": [
      " 46%|████▌     | 46/100 [00:03<00:04, 12.93it/s]"
     ]
    },
    {
     "name": "stdout",
     "output_type": "stream",
     "text": [
      "              precision    recall  f1-score   support\n",
      "\n",
      "           0       0.58      0.96      0.72      1106\n",
      "           1       0.66      0.09      0.16       856\n",
      "\n",
      "    accuracy                           0.58      1962\n",
      "   macro avg       0.62      0.53      0.44      1962\n",
      "weighted avg       0.61      0.58      0.48      1962\n",
      "\n",
      "[[1065   41]\n",
      " [ 777   79]]\n",
      "              precision    recall  f1-score   support\n",
      "\n",
      "           0       0.73      0.96      0.83      1125\n",
      "           1       0.56      0.13      0.21       461\n",
      "\n",
      "    accuracy                           0.72      1586\n",
      "   macro avg       0.65      0.54      0.52      1586\n",
      "weighted avg       0.68      0.72      0.65      1586\n",
      "\n",
      "[[1080   45]\n",
      " [ 403   58]]\n",
      "              precision    recall  f1-score   support\n",
      "\n",
      "           0       0.70      0.96      0.81      1045\n",
      "           1       0.58      0.11      0.18       493\n",
      "\n",
      "    accuracy                           0.69      1538\n",
      "   macro avg       0.64      0.54      0.49      1538\n",
      "weighted avg       0.66      0.69      0.61      1538\n",
      "\n",
      "[[1006   39]\n",
      " [ 440   53]]\n"
     ]
    },
    {
     "name": "stderr",
     "output_type": "stream",
     "text": [
      "\r",
      " 48%|████▊     | 48/100 [00:03<00:03, 13.07it/s]"
     ]
    },
    {
     "name": "stdout",
     "output_type": "stream",
     "text": [
      "              precision    recall  f1-score   support\n",
      "\n",
      "           0       0.75      0.96      0.84      1555\n",
      "           1       0.53      0.11      0.19       561\n",
      "\n",
      "    accuracy                           0.74      2116\n",
      "   macro avg       0.64      0.54      0.51      2116\n",
      "weighted avg       0.69      0.74      0.67      2116\n",
      "\n",
      "[[1500   55]\n",
      " [ 498   63]]\n",
      "              precision    recall  f1-score   support\n",
      "\n",
      "           0       0.73      0.96      0.83      1821\n",
      "           1       0.58      0.13      0.21       735\n",
      "\n",
      "    accuracy                           0.72      2556\n",
      "   macro avg       0.66      0.55      0.52      2556\n",
      "weighted avg       0.69      0.72      0.65      2556\n",
      "\n",
      "[[1753   68]\n",
      " [ 641   94]]\n",
      "              precision    recall  f1-score   support\n",
      "\n",
      "           0       0.76      0.97      0.85      1132\n",
      "           1       0.59      0.13      0.21       396\n",
      "\n",
      "    accuracy                           0.75      1528\n",
      "   macro avg       0.67      0.55      0.53      1528\n",
      "weighted avg       0.72      0.75      0.69      1528\n",
      "\n",
      "[[1097   35]\n",
      " [ 346   50]]\n"
     ]
    },
    {
     "name": "stderr",
     "output_type": "stream",
     "text": [
      " 52%|█████▏    | 52/100 [00:04<00:03, 12.67it/s]"
     ]
    },
    {
     "name": "stdout",
     "output_type": "stream",
     "text": [
      "              precision    recall  f1-score   support\n",
      "\n",
      "           0       0.59      0.97      0.74       950\n",
      "           1       0.73      0.11      0.19       704\n",
      "\n",
      "    accuracy                           0.60      1654\n",
      "   macro avg       0.66      0.54      0.46      1654\n",
      "weighted avg       0.65      0.60      0.50      1654\n",
      "\n",
      "[[922  28]\n",
      " [629  75]]\n",
      "              precision    recall  f1-score   support\n",
      "\n",
      "           0       0.79      0.96      0.87      1783\n",
      "           1       0.53      0.14      0.22       541\n",
      "\n",
      "    accuracy                           0.77      2324\n",
      "   macro avg       0.66      0.55      0.55      2324\n",
      "weighted avg       0.73      0.77      0.72      2324\n",
      "\n",
      "[[1716   67]\n",
      " [ 464   77]]\n",
      "              precision    recall  f1-score   support\n",
      "\n",
      "           0       0.85      0.96      0.90      1608\n",
      "           1       0.45      0.17      0.25       320\n",
      "\n",
      "    accuracy                           0.83      1928\n",
      "   macro avg       0.65      0.56      0.57      1928\n",
      "weighted avg       0.79      0.83      0.79      1928\n",
      "\n",
      "[[1543   65]\n",
      " [ 266   54]]\n"
     ]
    },
    {
     "name": "stderr",
     "output_type": "stream",
     "text": [
      " 56%|█████▌    | 56/100 [00:04<00:03, 13.92it/s]"
     ]
    },
    {
     "name": "stdout",
     "output_type": "stream",
     "text": [
      "              precision    recall  f1-score   support\n",
      "\n",
      "           0       0.55      0.96      0.70      1191\n",
      "           1       0.71      0.10      0.18      1040\n",
      "\n",
      "    accuracy                           0.56      2231\n",
      "   macro avg       0.63      0.53      0.44      2231\n",
      "weighted avg       0.63      0.56      0.46      2231\n",
      "\n",
      "[[1148   43]\n",
      " [ 934  106]]\n",
      "              precision    recall  f1-score   support\n",
      "\n",
      "           0       0.68      0.96      0.80      1363\n",
      "           1       0.59      0.11      0.19       680\n",
      "\n",
      "    accuracy                           0.68      2043\n",
      "   macro avg       0.64      0.54      0.49      2043\n",
      "weighted avg       0.65      0.68      0.60      2043\n",
      "\n",
      "[[1310   53]\n",
      " [ 603   77]]\n",
      "              precision    recall  f1-score   support\n",
      "\n",
      "           0       0.68      0.96      0.80      1176\n",
      "           1       0.58      0.12      0.20       589\n",
      "\n",
      "    accuracy                           0.68      1765\n",
      "   macro avg       0.63      0.54      0.50      1765\n",
      "weighted avg       0.65      0.68      0.60      1765\n",
      "\n",
      "[[1125   51]\n",
      " [ 519   70]]\n",
      "              precision    recall  f1-score   support\n",
      "\n",
      "           0       0.76      0.97      0.85      1077\n",
      "           1       0.63      0.15      0.24       389\n",
      "\n",
      "    accuracy                           0.75      1466\n",
      "   macro avg       0.70      0.56      0.54      1466\n",
      "weighted avg       0.73      0.75      0.69      1466\n",
      "\n",
      "[[1044   33]\n",
      " [ 332   57]]\n"
     ]
    },
    {
     "name": "stderr",
     "output_type": "stream",
     "text": [
      " 60%|██████    | 60/100 [00:04<00:02, 14.78it/s]"
     ]
    },
    {
     "name": "stdout",
     "output_type": "stream",
     "text": [
      "              precision    recall  f1-score   support\n",
      "\n",
      "           0       0.86      0.96      0.91      1669\n",
      "           1       0.47      0.18      0.26       319\n",
      "\n",
      "    accuracy                           0.84      1988\n",
      "   macro avg       0.67      0.57      0.58      1988\n",
      "weighted avg       0.80      0.84      0.80      1988\n",
      "\n",
      "[[1605   64]\n",
      " [ 262   57]]\n",
      "              precision    recall  f1-score   support\n",
      "\n",
      "           0       0.64      0.96      0.77      1678\n",
      "           1       0.58      0.09      0.16      1003\n",
      "\n",
      "    accuracy                           0.64      2681\n",
      "   macro avg       0.61      0.53      0.46      2681\n",
      "weighted avg       0.62      0.64      0.54      2681\n",
      "\n",
      "[[1610   68]\n",
      " [ 909   94]]\n",
      "              precision    recall  f1-score   support\n",
      "\n",
      "           0       0.87      0.96      0.92      1782\n",
      "           1       0.52      0.22      0.31       320\n",
      "\n",
      "    accuracy                           0.85      2102\n",
      "   macro avg       0.70      0.59      0.61      2102\n",
      "weighted avg       0.82      0.85      0.82      2102\n",
      "\n",
      "[[1719   63]\n",
      " [ 251   69]]\n",
      "              precision    recall  f1-score   support\n",
      "\n",
      "           0       0.79      0.96      0.86      2243\n",
      "           1       0.55      0.15      0.23       693\n",
      "\n",
      "    accuracy                           0.77      2936\n",
      "   macro avg       0.67      0.55      0.55      2936\n",
      "weighted avg       0.73      0.77      0.72      2936\n",
      "\n",
      "[[2159   84]\n",
      " [ 591  102]]\n"
     ]
    },
    {
     "name": "stderr",
     "output_type": "stream",
     "text": [
      "\r",
      " 62%|██████▏   | 62/100 [00:04<00:02, 14.52it/s]"
     ]
    },
    {
     "name": "stdout",
     "output_type": "stream",
     "text": [
      "              precision    recall  f1-score   support\n",
      "\n",
      "           0       0.82      0.96      0.88      1511\n",
      "           1       0.51      0.15      0.23       382\n",
      "\n",
      "    accuracy                           0.80      1893\n",
      "   macro avg       0.66      0.56      0.56      1893\n",
      "weighted avg       0.75      0.80      0.75      1893\n",
      "\n",
      "[[1457   54]\n",
      " [ 326   56]]\n",
      "              precision    recall  f1-score   support\n",
      "\n",
      "           0       0.70      0.97      0.82      1052\n",
      "           1       0.72      0.15      0.25       506\n",
      "\n",
      "    accuracy                           0.71      1558\n",
      "   macro avg       0.71      0.56      0.53      1558\n",
      "weighted avg       0.71      0.71      0.63      1558\n",
      "\n",
      "[[1022   30]\n",
      " [ 429   77]]\n",
      "              precision    recall  f1-score   support\n",
      "\n",
      "           0       0.75      0.97      0.85      1720\n",
      "           1       0.62      0.14      0.23       637\n",
      "\n",
      "    accuracy                           0.74      2357\n",
      "   macro avg       0.69      0.55      0.54      2357\n",
      "weighted avg       0.72      0.74      0.68      2357\n",
      "\n",
      "[[1666   54]\n",
      " [ 548   89]]\n",
      "              precision    recall  f1-score   support\n",
      "\n",
      "           0       0.67      0.96      0.79      1191\n",
      "           1       0.63      0.12      0.20       632\n",
      "\n",
      "    accuracy                           0.67      1823\n",
      "   macro avg       0.65      0.54      0.49      1823\n",
      "weighted avg       0.66      0.67      0.59      1823\n",
      "\n"
     ]
    },
    {
     "name": "stderr",
     "output_type": "stream",
     "text": [
      " 68%|██████▊   | 68/100 [00:05<00:02, 15.40it/s]"
     ]
    },
    {
     "name": "stdout",
     "output_type": "stream",
     "text": [
      "[[1148   43]\n",
      " [ 559   73]]\n",
      "              precision    recall  f1-score   support\n",
      "\n",
      "           0       0.74      0.97      0.84      1202\n",
      "           1       0.61      0.12      0.20       456\n",
      "\n",
      "    accuracy                           0.74      1658\n",
      "   macro avg       0.68      0.54      0.52      1658\n",
      "weighted avg       0.71      0.74      0.67      1658\n",
      "\n",
      "[[1167   35]\n",
      " [ 402   54]]\n",
      "              precision    recall  f1-score   support\n",
      "\n",
      "           0       0.82      0.96      0.89      1831\n",
      "           1       0.51      0.16      0.24       456\n",
      "\n",
      "    accuracy                           0.80      2287\n",
      "   macro avg       0.67      0.56      0.56      2287\n",
      "weighted avg       0.76      0.80      0.76      2287\n",
      "\n",
      "[[1763   68]\n",
      " [ 384   72]]\n",
      "              precision    recall  f1-score   support\n",
      "\n",
      "           0       0.81      0.96      0.88      1633\n",
      "           1       0.49      0.15      0.23       425\n",
      "\n",
      "    accuracy                           0.79      2058\n",
      "   macro avg       0.65      0.55      0.55      2058\n",
      "weighted avg       0.75      0.79      0.74      2058\n",
      "\n",
      "[[1569   64]\n",
      " [ 363   62]]\n",
      "              precision    recall  f1-score   support\n",
      "\n",
      "           0       0.84      0.96      0.90      1960\n",
      "           1       0.48      0.16      0.24       426\n",
      "\n",
      "    accuracy                           0.82      2386\n",
      "   macro avg       0.66      0.56      0.57      2386\n",
      "weighted avg       0.77      0.82      0.78      2386\n",
      "\n",
      "[[1886   74]\n",
      " [ 359   67]]\n"
     ]
    },
    {
     "name": "stderr",
     "output_type": "stream",
     "text": [
      " 72%|███████▏  | 72/100 [00:05<00:01, 14.85it/s]"
     ]
    },
    {
     "name": "stdout",
     "output_type": "stream",
     "text": [
      "              precision    recall  f1-score   support\n",
      "\n",
      "           0       0.74      0.96      0.83      1405\n",
      "           1       0.56      0.12      0.20       551\n",
      "\n",
      "    accuracy                           0.73      1956\n",
      "   macro avg       0.65      0.54      0.52      1956\n",
      "weighted avg       0.69      0.73      0.66      1956\n",
      "\n",
      "[[1352   53]\n",
      " [ 484   67]]\n",
      "              precision    recall  f1-score   support\n",
      "\n",
      "           0       0.69      0.96      0.80      1330\n",
      "           1       0.58      0.11      0.19       660\n",
      "\n",
      "    accuracy                           0.68      1990\n",
      "   macro avg       0.63      0.54      0.49      1990\n",
      "weighted avg       0.65      0.68      0.60      1990\n",
      "\n",
      "[[1277   53]\n",
      " [ 587   73]]\n",
      "              precision    recall  f1-score   support\n",
      "\n",
      "           0       0.75      0.96      0.85      1296\n",
      "           1       0.58      0.14      0.22       476\n",
      "\n",
      "    accuracy                           0.74      1772\n",
      "   macro avg       0.67      0.55      0.53      1772\n",
      "weighted avg       0.71      0.74      0.68      1772\n",
      "\n",
      "[[1249   47]\n",
      " [ 410   66]]\n",
      "              precision    recall  f1-score   support\n",
      "\n",
      "           0       0.71      0.97      0.82      1006\n",
      "           1       0.65      0.12      0.20       452\n",
      "\n",
      "    accuracy                           0.71      1458\n",
      "   macro avg       0.68      0.54      0.51      1458\n",
      "weighted avg       0.69      0.71      0.63      1458\n",
      "\n",
      "[[978  28]\n",
      " [400  52]]\n"
     ]
    },
    {
     "name": "stderr",
     "output_type": "stream",
     "text": [
      " 76%|███████▌  | 76/100 [00:05<00:01, 15.42it/s]"
     ]
    },
    {
     "name": "stdout",
     "output_type": "stream",
     "text": [
      "              precision    recall  f1-score   support\n",
      "\n",
      "           0       0.79      0.96      0.87      2432\n",
      "           1       0.51      0.15      0.23       719\n",
      "\n",
      "    accuracy                           0.77      3151\n",
      "   macro avg       0.65      0.55      0.55      3151\n",
      "weighted avg       0.73      0.77      0.72      3151\n",
      "\n",
      "[[2329  103]\n",
      " [ 612  107]]\n",
      "              precision    recall  f1-score   support\n",
      "\n",
      "           0       0.77      0.96      0.85      1421\n",
      "           1       0.53      0.13      0.21       482\n",
      "\n",
      "    accuracy                           0.75      1903\n",
      "   macro avg       0.65      0.55      0.53      1903\n",
      "weighted avg       0.71      0.75      0.69      1903\n",
      "\n",
      "[[1364   57]\n",
      " [ 418   64]]\n",
      "              precision    recall  f1-score   support\n",
      "\n",
      "           0       0.64      0.96      0.77      1368\n",
      "           1       0.60      0.10      0.18       819\n",
      "\n",
      "    accuracy                           0.64      2187\n",
      "   macro avg       0.62      0.53      0.47      2187\n",
      "weighted avg       0.63      0.64      0.55      2187\n",
      "\n",
      "[[1311   57]\n",
      " [ 734   85]]\n",
      "              precision    recall  f1-score   support\n",
      "\n",
      "           0       0.76      0.96      0.85      1708\n",
      "           1       0.50      0.12      0.19       592\n",
      "\n",
      "    accuracy                           0.74      2300\n",
      "   macro avg       0.63      0.54      0.52      2300\n",
      "weighted avg       0.69      0.74      0.68      2300\n",
      "\n",
      "[[1638   70]\n",
      " [ 521   71]]\n"
     ]
    },
    {
     "name": "stderr",
     "output_type": "stream",
     "text": [
      " 80%|████████  | 80/100 [00:05<00:01, 14.93it/s]"
     ]
    },
    {
     "name": "stdout",
     "output_type": "stream",
     "text": [
      "              precision    recall  f1-score   support\n",
      "\n",
      "           0       0.61      0.96      0.75       936\n",
      "           1       0.69      0.11      0.20       650\n",
      "\n",
      "    accuracy                           0.62      1586\n",
      "   macro avg       0.65      0.54      0.47      1586\n",
      "weighted avg       0.64      0.62      0.52      1586\n",
      "\n",
      "[[903  33]\n",
      " [576  74]]\n",
      "              precision    recall  f1-score   support\n",
      "\n",
      "           0       0.45      0.96      0.61       971\n",
      "           1       0.73      0.08      0.14      1257\n",
      "\n",
      "    accuracy                           0.46      2228\n",
      "   macro avg       0.59      0.52      0.38      2228\n",
      "weighted avg       0.60      0.46      0.35      2228\n",
      "\n",
      "[[ 934   37]\n",
      " [1159   98]]\n",
      "              precision    recall  f1-score   support\n",
      "\n",
      "           0       0.81      0.97      0.88      1525\n",
      "           1       0.60      0.16      0.25       411\n",
      "\n",
      "    accuracy                           0.80      1936\n",
      "   macro avg       0.70      0.56      0.57      1936\n",
      "weighted avg       0.77      0.80      0.75      1936\n",
      "\n",
      "[[1481   44]\n",
      " [ 346   65]]\n",
      "              precision    recall  f1-score   support\n",
      "\n",
      "           0       0.77      0.96      0.85      1528\n",
      "           1       0.56      0.14      0.22       522\n",
      "\n",
      "    accuracy                           0.75      2050\n",
      "   macro avg       0.66      0.55      0.54      2050\n",
      "weighted avg       0.71      0.75      0.69      2050\n",
      "\n",
      "[[1473   55]\n",
      " [ 451   71]]\n"
     ]
    },
    {
     "name": "stderr",
     "output_type": "stream",
     "text": [
      "\r",
      " 82%|████████▏ | 82/100 [00:06<00:01, 15.30it/s]"
     ]
    },
    {
     "name": "stdout",
     "output_type": "stream",
     "text": [
      "              precision    recall  f1-score   support\n",
      "\n",
      "           0       0.68      0.97      0.80      1179\n",
      "           1       0.67      0.13      0.22       618\n",
      "\n",
      "    accuracy                           0.68      1797\n",
      "   macro avg       0.68      0.55      0.51      1797\n",
      "weighted avg       0.68      0.68      0.60      1797\n",
      "\n",
      "[[1139   40]\n",
      " [ 536   82]]\n",
      "              precision    recall  f1-score   support\n",
      "\n",
      "           0       0.82      0.96      0.88      2044\n",
      "           1       0.46      0.14      0.22       508\n",
      "\n",
      "    accuracy                           0.80      2552\n",
      "   macro avg       0.64      0.55      0.55      2552\n",
      "weighted avg       0.75      0.80      0.75      2552\n",
      "\n",
      "[[1959   85]\n",
      " [ 435   73]]\n",
      "              precision    recall  f1-score   support\n",
      "\n",
      "           0       0.73      0.97      0.83      1205\n",
      "           1       0.65      0.12      0.20       497\n",
      "\n",
      "    accuracy                           0.72      1702\n",
      "   macro avg       0.69      0.55      0.52      1702\n",
      "weighted avg       0.71      0.72      0.65      1702\n",
      "\n",
      "[[1173   32]\n",
      " [ 437   60]]\n"
     ]
    },
    {
     "name": "stderr",
     "output_type": "stream",
     "text": [
      " 86%|████████▌ | 86/100 [00:06<00:01, 12.43it/s]"
     ]
    },
    {
     "name": "stdout",
     "output_type": "stream",
     "text": [
      "              precision    recall  f1-score   support\n",
      "\n",
      "           0       0.80      0.97      0.88      1527\n",
      "           1       0.64      0.19      0.29       444\n",
      "\n",
      "    accuracy                           0.79      1971\n",
      "   macro avg       0.72      0.58      0.58      1971\n",
      "weighted avg       0.77      0.79      0.75      1971\n",
      "\n",
      "[[1481   46]\n",
      " [ 361   83]]\n",
      "              precision    recall  f1-score   support\n",
      "\n",
      "           0       0.80      0.97      0.88      1687\n",
      "           1       0.61      0.17      0.27       495\n",
      "\n",
      "    accuracy                           0.79      2182\n",
      "   macro avg       0.71      0.57      0.57      2182\n",
      "weighted avg       0.76      0.79      0.74      2182\n",
      "\n",
      "[[1633   54]\n",
      " [ 410   85]]\n",
      "              precision    recall  f1-score   support\n",
      "\n",
      "           0       0.69      0.97      0.80      1258\n",
      "           1       0.63      0.12      0.20       623\n",
      "\n",
      "    accuracy                           0.68      1881\n",
      "   macro avg       0.66      0.54      0.50      1881\n",
      "weighted avg       0.67      0.68      0.60      1881\n",
      "\n",
      "[[1216   42]\n",
      " [ 551   72]]\n"
     ]
    },
    {
     "name": "stderr",
     "output_type": "stream",
     "text": [
      " 90%|█████████ | 90/100 [00:06<00:00, 14.18it/s]"
     ]
    },
    {
     "name": "stdout",
     "output_type": "stream",
     "text": [
      "              precision    recall  f1-score   support\n",
      "\n",
      "           0       0.74      0.97      0.84      1288\n",
      "           1       0.65      0.14      0.23       506\n",
      "\n",
      "    accuracy                           0.74      1794\n",
      "   macro avg       0.69      0.56      0.54      1794\n",
      "weighted avg       0.71      0.74      0.67      1794\n",
      "\n",
      "[[1249   39]\n",
      " [ 435   71]]\n",
      "              precision    recall  f1-score   support\n",
      "\n",
      "           0       0.77      0.97      0.86      1339\n",
      "           1       0.63      0.16      0.25       463\n",
      "\n",
      "    accuracy                           0.76      1802\n",
      "   macro avg       0.70      0.56      0.56      1802\n",
      "weighted avg       0.73      0.76      0.70      1802\n",
      "\n",
      "[[1295   44]\n",
      " [ 389   74]]\n",
      "              precision    recall  f1-score   support\n",
      "\n",
      "           0       0.86      0.96      0.91      1734\n",
      "           1       0.48      0.19      0.27       329\n",
      "\n",
      "    accuracy                           0.84      2063\n",
      "   macro avg       0.67      0.58      0.59      2063\n",
      "weighted avg       0.80      0.84      0.81      2063\n",
      "\n",
      "[[1668   66]\n",
      " [ 267   62]]\n",
      "              precision    recall  f1-score   support\n",
      "\n",
      "           0       0.80      0.96      0.87      1681\n",
      "           1       0.49      0.15      0.23       462\n",
      "\n",
      "    accuracy                           0.78      2143\n",
      "   macro avg       0.64      0.55      0.55      2143\n",
      "weighted avg       0.74      0.78      0.73      2143\n",
      "\n",
      "[[1608   73]\n",
      " [ 393   69]]\n"
     ]
    },
    {
     "name": "stderr",
     "output_type": "stream",
     "text": [
      " 94%|█████████▍| 94/100 [00:06<00:00, 15.24it/s]"
     ]
    },
    {
     "name": "stdout",
     "output_type": "stream",
     "text": [
      "              precision    recall  f1-score   support\n",
      "\n",
      "           0       0.78      0.96      0.86      1330\n",
      "           1       0.52      0.14      0.22       415\n",
      "\n",
      "    accuracy                           0.77      1745\n",
      "   macro avg       0.65      0.55      0.54      1745\n",
      "weighted avg       0.72      0.77      0.71      1745\n",
      "\n",
      "[[1276   54]\n",
      " [ 356   59]]\n",
      "              precision    recall  f1-score   support\n",
      "\n",
      "           0       0.75      0.97      0.85       905\n",
      "           1       0.63      0.15      0.25       336\n",
      "\n",
      "    accuracy                           0.75      1241\n",
      "   macro avg       0.69      0.56      0.55      1241\n",
      "weighted avg       0.72      0.75      0.69      1241\n",
      "\n",
      "[[875  30]\n",
      " [284  52]]\n",
      "              precision    recall  f1-score   support\n",
      "\n",
      "           0       0.84      0.96      0.90      1911\n",
      "           1       0.51      0.19      0.28       421\n",
      "\n",
      "    accuracy                           0.82      2332\n",
      "   macro avg       0.67      0.58      0.59      2332\n",
      "weighted avg       0.78      0.82      0.79      2332\n",
      "\n",
      "[[1832   79]\n",
      " [ 340   81]]\n",
      "              precision    recall  f1-score   support\n",
      "\n",
      "           0       0.66      0.96      0.78      1837\n",
      "           1       0.62      0.11      0.19      1027\n",
      "\n",
      "    accuracy                           0.66      2864\n",
      "   macro avg       0.64      0.54      0.49      2864\n",
      "weighted avg       0.65      0.66      0.57      2864\n",
      "\n",
      "[[1768   69]\n",
      " [ 913  114]]\n"
     ]
    },
    {
     "name": "stderr",
     "output_type": "stream",
     "text": [
      " 98%|█████████▊| 98/100 [00:07<00:00, 15.88it/s]"
     ]
    },
    {
     "name": "stdout",
     "output_type": "stream",
     "text": [
      "              precision    recall  f1-score   support\n",
      "\n",
      "           0       0.67      0.97      0.80      1260\n",
      "           1       0.66      0.12      0.20       668\n",
      "\n",
      "    accuracy                           0.67      1928\n",
      "   macro avg       0.67      0.54      0.50      1928\n",
      "weighted avg       0.67      0.67      0.59      1928\n",
      "\n",
      "[[1220   40]\n",
      " [ 589   79]]\n",
      "              precision    recall  f1-score   support\n",
      "\n",
      "           0       0.80      0.96      0.87      2278\n",
      "           1       0.52      0.15      0.23       651\n",
      "\n",
      "    accuracy                           0.78      2929\n",
      "   macro avg       0.66      0.55      0.55      2929\n",
      "weighted avg       0.74      0.78      0.73      2929\n",
      "\n",
      "[[2192   86]\n",
      " [ 556   95]]\n",
      "              precision    recall  f1-score   support\n",
      "\n",
      "           0       0.62      0.97      0.75       941\n",
      "           1       0.68      0.10      0.18       632\n",
      "\n",
      "    accuracy                           0.62      1573\n",
      "   macro avg       0.65      0.53      0.46      1573\n",
      "weighted avg       0.64      0.62      0.52      1573\n",
      "\n",
      "[[911  30]\n",
      " [568  64]]\n",
      "              precision    recall  f1-score   support\n",
      "\n",
      "           0       0.61      0.97      0.75      1049\n",
      "           1       0.72      0.11      0.19       716\n",
      "\n",
      "    accuracy                           0.62      1765\n",
      "   macro avg       0.67      0.54      0.47      1765\n",
      "weighted avg       0.66      0.62      0.52      1765\n",
      "\n",
      "[[1018   31]\n",
      " [ 638   78]]\n"
     ]
    },
    {
     "name": "stderr",
     "output_type": "stream",
     "text": [
      "100%|██████████| 100/100 [00:07<00:00, 13.61it/s]"
     ]
    },
    {
     "name": "stdout",
     "output_type": "stream",
     "text": [
      "              precision    recall  f1-score   support\n",
      "\n",
      "           0       0.76      0.96      0.85      1759\n",
      "           1       0.53      0.13      0.21       610\n",
      "\n",
      "    accuracy                           0.75      2369\n",
      "   macro avg       0.64      0.54      0.53      2369\n",
      "weighted avg       0.70      0.75      0.68      2369\n",
      "\n",
      "[[1688   71]\n",
      " [ 531   79]]\n",
      "              precision    recall  f1-score   support\n",
      "\n",
      "           0       0.60      0.97      0.74       902\n",
      "           1       0.70      0.11      0.19       643\n",
      "\n",
      "    accuracy                           0.61      1545\n",
      "   macro avg       0.65      0.54      0.47      1545\n",
      "weighted avg       0.65      0.61      0.51      1545\n",
      "\n",
      "[[872  30]\n",
      " [572  71]]\n"
     ]
    },
    {
     "name": "stderr",
     "output_type": "stream",
     "text": [
      "\n"
     ]
    }
   ],
   "source": [
    "accs = []\n",
    "bal_accs = []\n",
    "precs = []\n",
    "recalls = []\n",
    "aucs = []\n",
    "\n",
    "\n",
    "\n",
    "for _ in tqdm(range(100)):\n",
    "    words_shuffled = np.random.permutation(mldf.target.unique())\n",
    "\n",
    "    ratio = int(mldf.target.unique().shape[0]*0.8)\n",
    "    train_words = set(words_shuffled[:ratio])\n",
    "    msk = mldf.target.isin(train_words)\n",
    "\n",
    "    # msk = np.random.rand(len(mldf)) < 0.7\n",
    "\n",
    "    train_df = mldf[msk]\n",
    "    test_df = mldf[~msk]\n",
    "\n",
    "\n",
    "    target_train, anno_train, Y_train = (np.stack(train_df.target.apply(lambda w: scaled[mat_inds[w]])), \n",
    "                                         train_df.iloc[:, 5:].to_numpy(), \n",
    "                                         train_df.maj_vote.to_numpy())\n",
    "\n",
    "    target_test, anno_test, Y_test = (np.stack(test_df.target.apply(lambda w: scaled[mat_inds[w]])),\n",
    "                                        test_df.iloc[:, 5:].to_numpy(),\n",
    "                                        test_df.maj_vote.to_numpy())\n",
    "\n",
    "    X_train, X_test = np.hstack([target_train, anno_train]), np.hstack([target_test, anno_test])\n",
    "    \n",
    "    \n",
    "\n",
    "\n",
    "\n",
    "    baseline_preds = test_df.x_anno.apply(lambda a: int(anno_prior[a] > 0.5))\n",
    "\n",
    "\n",
    "    print(classification_report(Y_test, baseline_preds))\n",
    "    b = balanced_accuracy_score(Y_test, baseline_preds)\n",
    "    a = accuracy_score(Y_test, baseline_preds)\n",
    "    bal_accs.append(b)\n",
    "    accs.append(a)\n",
    "\n",
    "    precs.append(precision_score(Y_test, baseline_preds))\n",
    "    recalls.append(recall_score(Y_test, baseline_preds))\n",
    "    aucs.append(roc_auc_score(Y_test, baseline_preds))\n",
    "\n",
    "    cm = confusion_matrix(Y_test, baseline_preds)\n",
    "\n",
    "    print(cm)"
   ]
  },
  {
   "cell_type": "code",
   "execution_count": 18,
   "id": "37088184",
   "metadata": {},
   "outputs": [
    {
     "name": "stderr",
     "output_type": "stream",
     "text": [
      "/home/valentin/.local/lib/python3.9/site-packages/seaborn/distributions.py:2557: FutureWarning: `distplot` is a deprecated function and will be removed in a future version. Please adapt your code to use either `displot` (a figure-level function with similar flexibility) or `histplot` (an axes-level function for histograms).\n",
      "  warnings.warn(msg, FutureWarning)\n",
      "/home/valentin/.local/lib/python3.9/site-packages/seaborn/distributions.py:2557: FutureWarning: `distplot` is a deprecated function and will be removed in a future version. Please adapt your code to use either `displot` (a figure-level function with similar flexibility) or `histplot` (an axes-level function for histograms).\n",
      "  warnings.warn(msg, FutureWarning)\n"
     ]
    },
    {
     "data": {
      "image/png": "[encoded data removed]",
      "text/plain": [
       "<Figure size 432x288 with 1 Axes>"
      ]
     },
     "metadata": {
      "needs_background": "light"
     },
     "output_type": "display_data"
    }
   ],
   "source": [
    "_=sns.distplot(bal_accs, bins=20)\n",
    "_=sns.distplot(accs, bins=20)"
   ]
  },
  {
   "cell_type": "code",
   "execution_count": 10,
   "id": "1cc5ae54",
   "metadata": {},
   "outputs": [
    {
     "name": "stdout",
     "output_type": "stream",
     "text": [
      "balanced acc: (0.5458557149660525, 0.5519972322308863)\n",
      "accuracy    : (0.7001496241429216, 0.7326015672350511)\n",
      "recall    : (0.12784732291329973, 0.13980135778743566)\n",
      "precision    : (0.58067287436707, 0.6096635266992999)\n",
      "AUC    : (0.5458557149660525, 0.5519972322308863)\n"
     ]
    }
   ],
   "source": [
    "import numpy as np, scipy.stats as st\n",
    "\n",
    "\n",
    "print(\"balanced acc:\", st.t.interval(0.95, len(bal_accs)-1, loc=np.mean(bal_accs), scale=st.sem(bal_accs)))\n",
    "print(\"accuracy    :\", st.t.interval(0.95, len(accs)-1, loc=np.mean(accs), scale=st.sem(accs)))\n",
    "print(\"recall    :\", st.t.interval(0.95, len(recalls)-1, loc=np.mean(recalls), scale=st.sem(recalls)))\n",
    "print(\"precision    :\", st.t.interval(0.95, len(precs)-1, loc=np.mean(precs), scale=st.sem(precs)))\n",
    "print(\"AUC    :\", st.t.interval(0.95, len(aucs)-1, loc=np.mean(aucs), scale=st.sem(aucs)))\n"
   ]
  },
  {
   "cell_type": "markdown",
   "id": "28e3f966",
   "metadata": {},
   "source": [
    "---\n",
    "\n",
    "## Stupid Baseline"
   ]
  },
  {
   "cell_type": "code",
   "execution_count": 24,
   "id": "8df8313f",
   "metadata": {},
   "outputs": [
    {
     "name": "stderr",
     "output_type": "stream",
     "text": [
      "  3%|▎         | 3/100 [00:00<00:09, 10.42it/s]"
     ]
    },
    {
     "name": "stdout",
     "output_type": "stream",
     "text": [
      "              precision    recall  f1-score   support\n",
      "\n",
      "           0       0.64      0.73      0.69      1250\n",
      "           1       0.36      0.26      0.30       695\n",
      "\n",
      "    accuracy                           0.57      1945\n",
      "   macro avg       0.50      0.50      0.49      1945\n",
      "weighted avg       0.54      0.57      0.55      1945\n",
      "\n",
      "[[918 332]\n",
      " [511 184]]\n",
      "              precision    recall  f1-score   support\n",
      "\n",
      "           0       0.79      0.74      0.77      1696\n",
      "           1       0.21      0.26      0.23       442\n",
      "\n",
      "    accuracy                           0.64      2138\n",
      "   macro avg       0.50      0.50      0.50      2138\n",
      "weighted avg       0.67      0.64      0.66      2138\n",
      "\n",
      "[[1254  442]\n",
      " [ 326  116]]\n",
      "              precision    recall  f1-score   support\n",
      "\n",
      "           0       0.78      0.74      0.76      1469\n",
      "           1       0.23      0.27      0.25       419\n",
      "\n",
      "    accuracy                           0.63      1888\n",
      "   macro avg       0.50      0.50      0.50      1888\n",
      "weighted avg       0.66      0.63      0.64      1888\n",
      "\n",
      "[[1082  387]\n",
      " [ 306  113]]\n"
     ]
    },
    {
     "name": "stderr",
     "output_type": "stream",
     "text": [
      "\r",
      "  5%|▌         | 5/100 [00:00<00:08, 10.77it/s]"
     ]
    },
    {
     "name": "stdout",
     "output_type": "stream",
     "text": [
      "              precision    recall  f1-score   support\n",
      "\n",
      "           0       0.82      0.71      0.76      1681\n",
      "           1       0.15      0.26      0.19       343\n",
      "\n",
      "    accuracy                           0.64      2024\n",
      "   macro avg       0.49      0.48      0.48      2024\n",
      "weighted avg       0.71      0.64      0.67      2024\n",
      "\n",
      "[[1198  483]\n",
      " [ 255   88]]\n",
      "              precision    recall  f1-score   support\n",
      "\n",
      "           0       0.65      0.75      0.70      1070\n",
      "           1       0.37      0.27      0.31       592\n",
      "\n",
      "    accuracy                           0.58      1662\n",
      "   macro avg       0.51      0.51      0.51      1662\n",
      "weighted avg       0.55      0.58      0.56      1662\n",
      "\n",
      "[[800 270]\n",
      " [431 161]]\n",
      "              precision    recall  f1-score   support\n",
      "\n",
      "           0       0.60      0.74      0.66      1269\n",
      "           1       0.39      0.25      0.31       850\n",
      "\n",
      "    accuracy                           0.54      2119\n",
      "   macro avg       0.49      0.49      0.48      2119\n",
      "weighted avg       0.51      0.54      0.52      2119\n",
      "\n",
      "[[936 333]\n",
      " [636 214]]\n"
     ]
    },
    {
     "name": "stderr",
     "output_type": "stream",
     "text": [
      "  8%|▊         | 8/100 [00:00<00:09,  9.48it/s]"
     ]
    },
    {
     "name": "stdout",
     "output_type": "stream",
     "text": [
      "              precision    recall  f1-score   support\n",
      "\n",
      "           0       0.72      0.73      0.72      1264\n",
      "           1       0.29      0.28      0.28       505\n",
      "\n",
      "    accuracy                           0.60      1769\n",
      "   macro avg       0.50      0.50      0.50      1769\n",
      "weighted avg       0.60      0.60      0.60      1769\n",
      "\n",
      "[[925 339]\n",
      " [365 140]]\n",
      "              precision    recall  f1-score   support\n",
      "\n",
      "           0       0.73      0.74      0.74      1528\n",
      "           1       0.25      0.24      0.25       542\n",
      "\n",
      "    accuracy                           0.61      2070\n",
      "   macro avg       0.49      0.49      0.49      2070\n",
      "weighted avg       0.61      0.61      0.61      2070\n",
      "\n",
      "[[1133  395]\n",
      " [ 410  132]]\n"
     ]
    },
    {
     "name": "stderr",
     "output_type": "stream",
     "text": [
      " 10%|█         | 10/100 [00:01<00:10,  8.34it/s]"
     ]
    },
    {
     "name": "stdout",
     "output_type": "stream",
     "text": [
      "              precision    recall  f1-score   support\n",
      "\n",
      "           0       0.81      0.73      0.76      1922\n",
      "           1       0.18      0.26      0.21       454\n",
      "\n",
      "    accuracy                           0.64      2376\n",
      "   macro avg       0.49      0.49      0.49      2376\n",
      "weighted avg       0.69      0.64      0.66      2376\n",
      "\n",
      "[[1399  523]\n",
      " [ 337  117]]\n",
      "              precision    recall  f1-score   support\n",
      "\n",
      "           0       0.65      0.73      0.68      1074\n",
      "           1       0.35      0.27      0.31       586\n",
      "\n",
      "    accuracy                           0.57      1660\n",
      "   macro avg       0.50      0.50      0.50      1660\n",
      "weighted avg       0.54      0.57      0.55      1660\n",
      "\n",
      "[[779 295]\n",
      " [425 161]]\n"
     ]
    },
    {
     "name": "stderr",
     "output_type": "stream",
     "text": [
      "\r",
      " 11%|█         | 11/100 [00:01<00:10,  8.34it/s]"
     ]
    },
    {
     "name": "stdout",
     "output_type": "stream",
     "text": [
      "              precision    recall  f1-score   support\n",
      "\n",
      "           0       0.79      0.73      0.76      1947\n",
      "           1       0.18      0.23      0.20       487\n",
      "\n",
      "    accuracy                           0.63      2434\n",
      "   macro avg       0.48      0.48      0.48      2434\n",
      "weighted avg       0.67      0.63      0.65      2434\n",
      "\n",
      "[[1423  524]\n",
      " [ 374  113]]\n",
      "              precision    recall  f1-score   support\n",
      "\n",
      "           0       0.75      0.74      0.74      1378\n",
      "           1       0.25      0.26      0.25       468\n",
      "\n",
      "    accuracy                           0.62      1846\n",
      "   macro avg       0.50      0.50      0.50      1846\n",
      "weighted avg       0.62      0.62      0.62      1846\n",
      "\n",
      "[[1018  360]\n",
      " [ 348  120]]\n"
     ]
    },
    {
     "name": "stderr",
     "output_type": "stream",
     "text": [
      " 14%|█▍        | 14/100 [00:01<00:09,  8.81it/s]"
     ]
    },
    {
     "name": "stdout",
     "output_type": "stream",
     "text": [
      "              precision    recall  f1-score   support\n",
      "\n",
      "           0       0.74      0.73      0.74      1355\n",
      "           1       0.28      0.28      0.28       493\n",
      "\n",
      "    accuracy                           0.61      1848\n",
      "   macro avg       0.51      0.51      0.51      1848\n",
      "weighted avg       0.62      0.61      0.61      1848\n",
      "\n",
      "[[994 361]\n",
      " [353 140]]\n",
      "              precision    recall  f1-score   support\n",
      "\n",
      "           0       0.68      0.72      0.70      1311\n",
      "           1       0.28      0.24      0.26       575\n",
      "\n",
      "    accuracy                           0.58      1886\n",
      "   macro avg       0.48      0.48      0.48      1886\n",
      "weighted avg       0.56      0.58      0.57      1886\n",
      "\n",
      "[[946 365]\n",
      " [436 139]]\n"
     ]
    },
    {
     "name": "stderr",
     "output_type": "stream",
     "text": [
      "\r",
      " 16%|█▌        | 16/100 [00:01<00:08,  9.43it/s]"
     ]
    },
    {
     "name": "stdout",
     "output_type": "stream",
     "text": [
      "              precision    recall  f1-score   support\n",
      "\n",
      "           0       0.64      0.71      0.68       999\n",
      "           1       0.35      0.27      0.31       554\n",
      "\n",
      "    accuracy                           0.56      1553\n",
      "   macro avg       0.49      0.49      0.49      1553\n",
      "weighted avg       0.54      0.56      0.54      1553\n",
      "\n",
      "[[714 285]\n",
      " [402 152]]\n",
      "              precision    recall  f1-score   support\n",
      "\n",
      "           0       0.71      0.73      0.72      2050\n",
      "           1       0.26      0.24      0.25       821\n",
      "\n",
      "    accuracy                           0.59      2871\n",
      "   macro avg       0.48      0.48      0.48      2871\n",
      "weighted avg       0.58      0.59      0.58      2871\n",
      "\n",
      "[[1488  562]\n",
      " [ 622  199]]\n"
     ]
    },
    {
     "name": "stderr",
     "output_type": "stream",
     "text": [
      " 19%|█▉        | 19/100 [00:02<00:08,  9.57it/s]"
     ]
    },
    {
     "name": "stdout",
     "output_type": "stream",
     "text": [
      "              precision    recall  f1-score   support\n",
      "\n",
      "           0       0.71      0.75      0.73      1684\n",
      "           1       0.31      0.27      0.29       708\n",
      "\n",
      "    accuracy                           0.61      2392\n",
      "   macro avg       0.51      0.51      0.51      2392\n",
      "weighted avg       0.59      0.61      0.60      2392\n",
      "\n",
      "[[1269  415]\n",
      " [ 519  189]]\n",
      "              precision    recall  f1-score   support\n",
      "\n",
      "           0       0.59      0.73      0.65      1152\n",
      "           1       0.39      0.25      0.31       793\n",
      "\n",
      "    accuracy                           0.54      1945\n",
      "   macro avg       0.49      0.49      0.48      1945\n",
      "weighted avg       0.51      0.54      0.51      1945\n",
      "\n",
      "[[845 307]\n",
      " [595 198]]\n",
      "              precision    recall  f1-score   support\n",
      "\n",
      "           0       0.77      0.72      0.74      1672\n",
      "           1       0.24      0.29      0.26       502\n",
      "\n",
      "    accuracy                           0.62      2174\n",
      "   macro avg       0.50      0.50      0.50      2174\n",
      "weighted avg       0.65      0.62      0.63      2174\n",
      "\n",
      "[[1203  469]\n",
      " [ 357  145]]\n"
     ]
    },
    {
     "name": "stderr",
     "output_type": "stream",
     "text": [
      " 21%|██        | 21/100 [00:02<00:08,  8.87it/s]"
     ]
    },
    {
     "name": "stdout",
     "output_type": "stream",
     "text": [
      "              precision    recall  f1-score   support\n",
      "\n",
      "           0       0.73      0.72      0.72      1306\n",
      "           1       0.27      0.27      0.27       488\n",
      "\n",
      "    accuracy                           0.60      1794\n",
      "   macro avg       0.50      0.50      0.50      1794\n",
      "weighted avg       0.60      0.60      0.60      1794\n",
      "\n",
      "[[942 364]\n",
      " [354 134]]\n",
      "              precision    recall  f1-score   support\n",
      "\n",
      "           0       0.74      0.77      0.76      1133\n",
      "           1       0.32      0.28      0.30       430\n",
      "\n",
      "    accuracy                           0.64      1563\n",
      "   macro avg       0.53      0.53      0.53      1563\n",
      "weighted avg       0.62      0.64      0.63      1563\n",
      "\n",
      "[[875 258]\n",
      " [309 121]]\n"
     ]
    },
    {
     "name": "stderr",
     "output_type": "stream",
     "text": [
      "\r",
      " 22%|██▏       | 22/100 [00:02<00:09,  8.54it/s]"
     ]
    },
    {
     "name": "stdout",
     "output_type": "stream",
     "text": [
      "              precision    recall  f1-score   support\n",
      "\n",
      "           0       0.67      0.74      0.70      1622\n",
      "           1       0.34      0.27      0.30       818\n",
      "\n",
      "    accuracy                           0.58      2440\n",
      "   macro avg       0.50      0.50      0.50      2440\n",
      "weighted avg       0.56      0.58      0.56      2440\n",
      "\n",
      "[[1195  427]\n",
      " [ 601  217]]\n",
      "              precision    recall  f1-score   support\n",
      "\n",
      "           0       0.80      0.73      0.76      1513\n",
      "           1       0.20      0.27      0.23       375\n",
      "\n",
      "    accuracy                           0.64      1888\n",
      "   macro avg       0.50      0.50      0.50      1888\n",
      "weighted avg       0.68      0.64      0.66      1888\n",
      "\n",
      "[[1105  408]\n",
      " [ 274  101]]\n",
      "              precision    recall  f1-score   support\n",
      "\n",
      "           0       0.71      0.74      0.72      1238\n",
      "           1       0.25      0.22      0.24       483\n",
      "\n",
      "    accuracy                           0.59      1721\n",
      "   macro avg       0.48      0.48      0.48      1721\n",
      "weighted avg       0.58      0.59      0.59      1721\n",
      "\n"
     ]
    },
    {
     "name": "stderr",
     "output_type": "stream",
     "text": [
      " 26%|██▌       | 26/100 [00:02<00:07,  9.42it/s]"
     ]
    },
    {
     "name": "stdout",
     "output_type": "stream",
     "text": [
      "[[914 324]\n",
      " [375 108]]\n",
      "              precision    recall  f1-score   support\n",
      "\n",
      "           0       0.68      0.75      0.71      1024\n",
      "           1       0.37      0.29      0.33       515\n",
      "\n",
      "    accuracy                           0.60      1539\n",
      "   macro avg       0.52      0.52      0.52      1539\n",
      "weighted avg       0.58      0.60      0.58      1539\n",
      "\n",
      "[[772 252]\n",
      " [366 149]]\n",
      "              precision    recall  f1-score   support\n",
      "\n",
      "           0       0.67      0.74      0.70      1466\n",
      "           1       0.33      0.26      0.29       724\n",
      "\n",
      "    accuracy                           0.58      2190\n",
      "   macro avg       0.50      0.50      0.50      2190\n",
      "weighted avg       0.56      0.58      0.57      2190\n",
      "\n",
      "[[1082  384]\n",
      " [ 536  188]]\n",
      "              precision    recall  f1-score   support\n",
      "\n",
      "           0       0.64      0.73      0.68      1251\n",
      "           1       0.37      0.28      0.32       711\n",
      "\n",
      "    accuracy                           0.57      1962\n",
      "   macro avg       0.50      0.50      0.50      1962\n",
      "weighted avg       0.54      0.57      0.55      1962\n",
      "\n"
     ]
    },
    {
     "name": "stderr",
     "output_type": "stream",
     "text": [
      "\r",
      " 28%|██▊       | 28/100 [00:03<00:07,  9.88it/s]"
     ]
    },
    {
     "name": "stdout",
     "output_type": "stream",
     "text": [
      "[[914 337]\n",
      " [514 197]]\n",
      "              precision    recall  f1-score   support\n",
      "\n",
      "           0       0.62      0.74      0.67      1234\n",
      "           1       0.42      0.29      0.34       799\n",
      "\n",
      "    accuracy                           0.56      2033\n",
      "   macro avg       0.52      0.51      0.51      2033\n",
      "weighted avg       0.54      0.56      0.54      2033\n",
      "\n",
      "[[908 326]\n",
      " [565 234]]\n",
      "              precision    recall  f1-score   support\n",
      "\n",
      "           0       0.82      0.72      0.77      2338\n",
      "           1       0.18      0.28      0.22       500\n",
      "\n",
      "    accuracy                           0.64      2838\n",
      "   macro avg       0.50      0.50      0.49      2838\n",
      "weighted avg       0.71      0.64      0.67      2838\n",
      "\n",
      "[[1682  656]\n",
      " [ 358  142]]\n"
     ]
    },
    {
     "name": "stderr",
     "output_type": "stream",
     "text": [
      " 32%|███▏      | 32/100 [00:03<00:06, 10.53it/s]"
     ]
    },
    {
     "name": "stdout",
     "output_type": "stream",
     "text": [
      "              precision    recall  f1-score   support\n",
      "\n",
      "           0       0.73      0.75      0.74      1434\n",
      "           1       0.28      0.27      0.27       539\n",
      "\n",
      "    accuracy                           0.62      1973\n",
      "   macro avg       0.51      0.51      0.51      1973\n",
      "weighted avg       0.61      0.62      0.61      1973\n",
      "\n",
      "[[1073  361]\n",
      " [ 396  143]]\n",
      "              precision    recall  f1-score   support\n",
      "\n",
      "           0       0.71      0.74      0.72      1521\n",
      "           1       0.31      0.28      0.29       633\n",
      "\n",
      "    accuracy                           0.60      2154\n",
      "   macro avg       0.51      0.51      0.51      2154\n",
      "weighted avg       0.59      0.60      0.60      2154\n",
      "\n",
      "[[1124  397]\n",
      " [ 456  177]]\n",
      "              precision    recall  f1-score   support\n",
      "\n",
      "           0       0.61      0.73      0.66       772\n",
      "           1       0.42      0.29      0.34       514\n",
      "\n",
      "    accuracy                           0.56      1286\n",
      "   macro avg       0.51      0.51      0.50      1286\n",
      "weighted avg       0.53      0.56      0.53      1286\n",
      "\n",
      "[[567 205]\n",
      " [367 147]]\n"
     ]
    },
    {
     "name": "stderr",
     "output_type": "stream",
     "text": [
      "\r",
      " 34%|███▍      | 34/100 [00:03<00:07,  9.16it/s]"
     ]
    },
    {
     "name": "stdout",
     "output_type": "stream",
     "text": [
      "              precision    recall  f1-score   support\n",
      "\n",
      "           0       0.76      0.74      0.75      1229\n",
      "           1       0.22      0.25      0.24       374\n",
      "\n",
      "    accuracy                           0.62      1603\n",
      "   macro avg       0.49      0.49      0.49      1603\n",
      "weighted avg       0.64      0.62      0.63      1603\n",
      "\n",
      "[[905 324]\n",
      " [280  94]]\n",
      "              precision    recall  f1-score   support\n",
      "\n",
      "           0       0.60      0.74      0.66      1215\n",
      "           1       0.41      0.27      0.33       813\n",
      "\n",
      "    accuracy                           0.55      2028\n",
      "   macro avg       0.51      0.50      0.50      2028\n",
      "weighted avg       0.53      0.55      0.53      2028\n",
      "\n",
      "[[895 320]\n",
      " [591 222]]\n"
     ]
    },
    {
     "name": "stderr",
     "output_type": "stream",
     "text": [
      " 36%|███▌      | 36/100 [00:03<00:07,  8.74it/s]"
     ]
    },
    {
     "name": "stdout",
     "output_type": "stream",
     "text": [
      "              precision    recall  f1-score   support\n",
      "\n",
      "           0       0.65      0.71      0.68      1138\n",
      "           1       0.31      0.25      0.28       594\n",
      "\n",
      "    accuracy                           0.55      1732\n",
      "   macro avg       0.48      0.48      0.48      1732\n",
      "weighted avg       0.53      0.55      0.54      1732\n",
      "\n",
      "[[811 327]\n",
      " [445 149]]\n",
      "              precision    recall  f1-score   support\n",
      "\n",
      "           0       0.74      0.74      0.74      1357\n",
      "           1       0.27      0.26      0.26       489\n",
      "\n",
      "    accuracy                           0.61      1846\n",
      "   macro avg       0.50      0.50      0.50      1846\n",
      "weighted avg       0.61      0.61      0.61      1846\n",
      "\n",
      "[[1004  353]\n",
      " [ 361  128]]\n"
     ]
    },
    {
     "name": "stderr",
     "output_type": "stream",
     "text": [
      " 38%|███▊      | 38/100 [00:04<00:06,  9.00it/s]"
     ]
    },
    {
     "name": "stdout",
     "output_type": "stream",
     "text": [
      "              precision    recall  f1-score   support\n",
      "\n",
      "           0       0.82      0.73      0.77      2125\n",
      "           1       0.18      0.27      0.22       467\n",
      "\n",
      "    accuracy                           0.64      2592\n",
      "   macro avg       0.50      0.50      0.49      2592\n",
      "weighted avg       0.70      0.64      0.67      2592\n",
      "\n",
      "[[1542  583]\n",
      " [ 340  127]]\n",
      "              precision    recall  f1-score   support\n",
      "\n",
      "           0       0.71      0.72      0.71      1563\n",
      "           1       0.29      0.28      0.29       643\n",
      "\n",
      "    accuracy                           0.59      2206\n",
      "   macro avg       0.50      0.50      0.50      2206\n",
      "weighted avg       0.59      0.59      0.59      2206\n",
      "\n",
      "[[1125  438]\n",
      " [ 461  182]]\n"
     ]
    },
    {
     "name": "stderr",
     "output_type": "stream",
     "text": [
      " 40%|████      | 40/100 [00:04<00:06,  8.82it/s]"
     ]
    },
    {
     "name": "stdout",
     "output_type": "stream",
     "text": [
      "              precision    recall  f1-score   support\n",
      "\n",
      "           0       0.71      0.75      0.73      1628\n",
      "           1       0.33      0.29      0.31       693\n",
      "\n",
      "    accuracy                           0.61      2321\n",
      "   macro avg       0.52      0.52      0.52      2321\n",
      "weighted avg       0.60      0.61      0.60      2321\n",
      "\n",
      "[[1219  409]\n",
      " [ 494  199]]\n",
      "              precision    recall  f1-score   support\n",
      "\n",
      "           0       0.68      0.74      0.71      1171\n",
      "           1       0.34      0.27      0.30       568\n",
      "\n",
      "    accuracy                           0.59      1739\n",
      "   macro avg       0.51      0.51      0.50      1739\n",
      "weighted avg       0.57      0.59      0.58      1739\n",
      "\n",
      "[[872 299]\n",
      " [415 153]]\n",
      "              precision    recall  f1-score   support\n",
      "\n",
      "           0       0.54      0.72      0.62      1178\n",
      "           1       0.44      0.26      0.33       980\n",
      "\n",
      "    accuracy                           0.51      2158\n",
      "   macro avg       0.49      0.49      0.47      2158\n",
      "weighted avg       0.49      0.51      0.49      2158\n",
      "\n",
      "[[850 328]\n",
      " [724 256]]\n"
     ]
    },
    {
     "name": "stderr",
     "output_type": "stream",
     "text": [
      " 43%|████▎     | 43/100 [00:04<00:06,  9.14it/s]"
     ]
    },
    {
     "name": "stdout",
     "output_type": "stream",
     "text": [
      "              precision    recall  f1-score   support\n",
      "\n",
      "           0       0.68      0.74      0.71      1279\n",
      "           1       0.30      0.25      0.27       586\n",
      "\n",
      "    accuracy                           0.58      1865\n",
      "   macro avg       0.49      0.49      0.49      1865\n",
      "weighted avg       0.56      0.58      0.57      1865\n",
      "\n",
      "[[943 336]\n",
      " [441 145]]\n",
      "              precision    recall  f1-score   support\n",
      "\n",
      "           0       0.71      0.74      0.73      1100\n",
      "           1       0.30      0.26      0.28       461\n",
      "\n",
      "    accuracy                           0.60      1561\n",
      "   macro avg       0.50      0.50      0.50      1561\n",
      "weighted avg       0.59      0.60      0.59      1561\n",
      "\n",
      "[[819 281]\n",
      " [340 121]]\n"
     ]
    },
    {
     "name": "stderr",
     "output_type": "stream",
     "text": [
      " 45%|████▌     | 45/100 [00:04<00:06,  8.63it/s]"
     ]
    },
    {
     "name": "stdout",
     "output_type": "stream",
     "text": [
      "              precision    recall  f1-score   support\n",
      "\n",
      "           0       0.68      0.74      0.71       914\n",
      "           1       0.36      0.29      0.32       449\n",
      "\n",
      "    accuracy                           0.59      1363\n",
      "   macro avg       0.52      0.52      0.51      1363\n",
      "weighted avg       0.57      0.59      0.58      1363\n",
      "\n",
      "[[676 238]\n",
      " [318 131]]\n",
      "              precision    recall  f1-score   support\n",
      "\n",
      "           0       0.68      0.73      0.70      1492\n",
      "           1       0.32      0.27      0.29       705\n",
      "\n",
      "    accuracy                           0.58      2197\n",
      "   macro avg       0.50      0.50      0.50      2197\n",
      "weighted avg       0.56      0.58      0.57      2197\n",
      "\n",
      "[[1084  408]\n",
      " [ 516  189]]\n"
     ]
    },
    {
     "name": "stderr",
     "output_type": "stream",
     "text": [
      " 48%|████▊     | 48/100 [00:05<00:05,  9.81it/s]"
     ]
    },
    {
     "name": "stdout",
     "output_type": "stream",
     "text": [
      "              precision    recall  f1-score   support\n",
      "\n",
      "           0       0.70      0.73      0.71      1558\n",
      "           1       0.31      0.28      0.29       684\n",
      "\n",
      "    accuracy                           0.59      2242\n",
      "   macro avg       0.50      0.50      0.50      2242\n",
      "weighted avg       0.58      0.59      0.58      2242\n",
      "\n",
      "[[1131  427]\n",
      " [ 494  190]]\n",
      "              precision    recall  f1-score   support\n",
      "\n",
      "           0       0.75      0.73      0.74      1076\n",
      "           1       0.27      0.29      0.28       371\n",
      "\n",
      "    accuracy                           0.62      1447\n",
      "   macro avg       0.51      0.51      0.51      1447\n",
      "weighted avg       0.63      0.62      0.62      1447\n",
      "\n",
      "[[782 294]\n",
      " [263 108]]\n",
      "              precision    recall  f1-score   support\n",
      "\n",
      "           0       0.85      0.76      0.80      1618\n",
      "           1       0.17      0.26      0.21       306\n",
      "\n",
      "    accuracy                           0.68      1924\n",
      "   macro avg       0.51      0.51      0.51      1924\n",
      "weighted avg       0.74      0.68      0.71      1924\n",
      "\n",
      "[[1234  384]\n",
      " [ 225   81]]\n"
     ]
    },
    {
     "name": "stderr",
     "output_type": "stream",
     "text": [
      " 50%|█████     | 50/100 [00:05<00:05,  8.93it/s]"
     ]
    },
    {
     "name": "stdout",
     "output_type": "stream",
     "text": [
      "              precision    recall  f1-score   support\n",
      "\n",
      "           0       0.72      0.73      0.72      1554\n",
      "           1       0.29      0.28      0.29       616\n",
      "\n",
      "    accuracy                           0.60      2170\n",
      "   macro avg       0.50      0.50      0.50      2170\n",
      "weighted avg       0.60      0.60      0.60      2170\n",
      "\n",
      "[[1128  426]\n",
      " [ 442  174]]\n",
      "              precision    recall  f1-score   support\n",
      "\n",
      "           0       0.62      0.73      0.67      1125\n",
      "           1       0.38      0.28      0.32       680\n",
      "\n",
      "    accuracy                           0.56      1805\n",
      "   macro avg       0.50      0.50      0.50      1805\n",
      "weighted avg       0.53      0.56      0.54      1805\n",
      "\n",
      "[[816 309]\n",
      " [491 189]]\n"
     ]
    },
    {
     "name": "stderr",
     "output_type": "stream",
     "text": [
      "\r",
      " 52%|█████▏    | 52/100 [00:05<00:04,  9.63it/s]"
     ]
    },
    {
     "name": "stdout",
     "output_type": "stream",
     "text": [
      "              precision    recall  f1-score   support\n",
      "\n",
      "           0       0.71      0.73      0.72      1155\n",
      "           1       0.28      0.26      0.27       466\n",
      "\n",
      "    accuracy                           0.59      1621\n",
      "   macro avg       0.49      0.49      0.49      1621\n",
      "weighted avg       0.59      0.59      0.59      1621\n",
      "\n",
      "[[838 317]\n",
      " [343 123]]\n",
      "              precision    recall  f1-score   support\n",
      "\n",
      "           0       0.70      0.71      0.70      1466\n",
      "           1       0.29      0.28      0.28       628\n",
      "\n",
      "    accuracy                           0.58      2094\n",
      "   macro avg       0.49      0.49      0.49      2094\n",
      "weighted avg       0.57      0.58      0.58      2094\n",
      "\n",
      "[[1044  422]\n",
      " [ 455  173]]\n"
     ]
    },
    {
     "name": "stderr",
     "output_type": "stream",
     "text": [
      " 54%|█████▍    | 54/100 [00:05<00:05,  8.79it/s]"
     ]
    },
    {
     "name": "stdout",
     "output_type": "stream",
     "text": [
      "              precision    recall  f1-score   support\n",
      "\n",
      "           0       0.79      0.73      0.76      1410\n",
      "           1       0.22      0.28      0.25       389\n",
      "\n",
      "    accuracy                           0.63      1799\n",
      "   macro avg       0.50      0.51      0.50      1799\n",
      "weighted avg       0.66      0.63      0.65      1799\n",
      "\n",
      "[[1033  377]\n",
      " [ 281  108]]\n",
      "              precision    recall  f1-score   support\n",
      "\n",
      "           0       0.78      0.73      0.75      1617\n",
      "           1       0.21      0.27      0.24       446\n",
      "\n",
      "    accuracy                           0.63      2063\n",
      "   macro avg       0.50      0.50      0.50      2063\n",
      "weighted avg       0.66      0.63      0.64      2063\n",
      "\n",
      "[[1175  442]\n",
      " [ 325  121]]\n"
     ]
    },
    {
     "name": "stderr",
     "output_type": "stream",
     "text": [
      " 56%|█████▌    | 56/100 [00:06<00:05,  8.77it/s]"
     ]
    },
    {
     "name": "stdout",
     "output_type": "stream",
     "text": [
      "              precision    recall  f1-score   support\n",
      "\n",
      "           0       0.70      0.72      0.71      1523\n",
      "           1       0.30      0.27      0.28       657\n",
      "\n",
      "    accuracy                           0.59      2180\n",
      "   macro avg       0.50      0.50      0.50      2180\n",
      "weighted avg       0.58      0.59      0.58      2180\n",
      "\n",
      "[[1103  420]\n",
      " [ 479  178]]\n",
      "              precision    recall  f1-score   support\n",
      "\n",
      "           0       0.77      0.75      0.76      1543\n",
      "           1       0.22      0.25      0.23       453\n",
      "\n",
      "    accuracy                           0.63      1996\n",
      "   macro avg       0.50      0.50      0.50      1996\n",
      "weighted avg       0.65      0.63      0.64      1996\n",
      "\n",
      "[[1151  392]\n",
      " [ 342  111]]\n"
     ]
    },
    {
     "name": "stderr",
     "output_type": "stream",
     "text": [
      "\r",
      " 58%|█████▊    | 58/100 [00:06<00:04,  9.59it/s]"
     ]
    },
    {
     "name": "stdout",
     "output_type": "stream",
     "text": [
      "              precision    recall  f1-score   support\n",
      "\n",
      "           0       0.56      0.73      0.63      1006\n",
      "           1       0.41      0.24      0.30       762\n",
      "\n",
      "    accuracy                           0.52      1768\n",
      "   macro avg       0.48      0.49      0.47      1768\n",
      "weighted avg       0.49      0.52      0.49      1768\n",
      "\n",
      "[[736 270]\n",
      " [578 184]]\n",
      "              precision    recall  f1-score   support\n",
      "\n",
      "           0       0.80      0.73      0.76      1855\n",
      "           1       0.20      0.26      0.23       461\n",
      "\n",
      "    accuracy                           0.64      2316\n",
      "   macro avg       0.50      0.50      0.49      2316\n",
      "weighted avg       0.68      0.64      0.66      2316\n",
      "\n",
      "[[1356  499]\n",
      " [ 339  122]]\n"
     ]
    },
    {
     "name": "stderr",
     "output_type": "stream",
     "text": [
      " 61%|██████    | 61/100 [00:06<00:03,  9.94it/s]"
     ]
    },
    {
     "name": "stdout",
     "output_type": "stream",
     "text": [
      "              precision    recall  f1-score   support\n",
      "\n",
      "           0       0.76      0.73      0.74      2092\n",
      "           1       0.20      0.22      0.21       628\n",
      "\n",
      "    accuracy                           0.61      2720\n",
      "   macro avg       0.48      0.48      0.48      2720\n",
      "weighted avg       0.63      0.61      0.62      2720\n",
      "\n",
      "[[1529  563]\n",
      " [ 489  139]]\n",
      "              precision    recall  f1-score   support\n",
      "\n",
      "           0       0.52      0.75      0.61       832\n",
      "           1       0.52      0.27      0.36       808\n",
      "\n",
      "    accuracy                           0.52      1640\n",
      "   macro avg       0.52      0.51      0.48      1640\n",
      "weighted avg       0.52      0.52      0.49      1640\n",
      "\n",
      "[[624 208]\n",
      " [587 221]]\n",
      "              precision    recall  f1-score   support\n",
      "\n",
      "           0       0.79      0.74      0.76      1478\n",
      "           1       0.23      0.28      0.25       411\n",
      "\n",
      "    accuracy                           0.64      1889\n",
      "   macro avg       0.51      0.51      0.51      1889\n",
      "weighted avg       0.67      0.64      0.65      1889\n",
      "\n",
      "[[1091  387]\n",
      " [ 296  115]]\n"
     ]
    },
    {
     "name": "stderr",
     "output_type": "stream",
     "text": [
      " 63%|██████▎   | 63/100 [00:06<00:04,  9.05it/s]"
     ]
    },
    {
     "name": "stdout",
     "output_type": "stream",
     "text": [
      "              precision    recall  f1-score   support\n",
      "\n",
      "           0       0.40      0.75      0.52       625\n",
      "           1       0.61      0.26      0.36       952\n",
      "\n",
      "    accuracy                           0.45      1577\n",
      "   macro avg       0.50      0.50      0.44      1577\n",
      "weighted avg       0.53      0.45      0.43      1577\n",
      "\n",
      "[[466 159]\n",
      " [704 248]]\n",
      "              precision    recall  f1-score   support\n",
      "\n",
      "           0       0.59      0.74      0.65       862\n",
      "           1       0.42      0.26      0.32       613\n",
      "\n",
      "    accuracy                           0.54      1475\n",
      "   macro avg       0.50      0.50      0.49      1475\n",
      "weighted avg       0.52      0.54      0.52      1475\n",
      "\n",
      "[[638 224]\n",
      " [452 161]]\n"
     ]
    },
    {
     "name": "stderr",
     "output_type": "stream",
     "text": [
      "\r",
      " 64%|██████▍   | 64/100 [00:06<00:03,  9.12it/s]"
     ]
    },
    {
     "name": "stdout",
     "output_type": "stream",
     "text": [
      "              precision    recall  f1-score   support\n",
      "\n",
      "           0       0.73      0.73      0.73      1375\n",
      "           1       0.27      0.27      0.27       519\n",
      "\n",
      "    accuracy                           0.60      1894\n",
      "   macro avg       0.50      0.50      0.50      1894\n",
      "weighted avg       0.60      0.60      0.60      1894\n",
      "\n",
      "[[1001  374]\n",
      " [ 379  140]]\n",
      "              precision    recall  f1-score   support\n",
      "\n",
      "           0       0.76      0.72      0.74      1058\n",
      "           1       0.22      0.26      0.24       325\n",
      "\n",
      "    accuracy                           0.61      1383\n",
      "   macro avg       0.49      0.49      0.49      1383\n",
      "weighted avg       0.63      0.61      0.62      1383\n",
      "\n",
      "[[757 301]\n",
      " [239  86]]\n",
      "              precision    recall  f1-score   support\n",
      "\n",
      "           0       0.73      0.73      0.73      1592\n",
      "           1       0.25      0.26      0.25       566\n",
      "\n",
      "    accuracy                           0.60      2158\n",
      "   macro avg       0.49      0.49      0.49      2158\n",
      "weighted avg       0.61      0.60      0.61      2158\n",
      "\n"
     ]
    },
    {
     "name": "stderr",
     "output_type": "stream",
     "text": [
      " 68%|██████▊   | 68/100 [00:07<00:03,  9.44it/s]"
     ]
    },
    {
     "name": "stdout",
     "output_type": "stream",
     "text": [
      "[[1158  434]\n",
      " [ 420  146]]\n",
      "              precision    recall  f1-score   support\n",
      "\n",
      "           0       0.71      0.74      0.73      1212\n",
      "           1       0.29      0.26      0.28       492\n",
      "\n",
      "    accuracy                           0.60      1704\n",
      "   macro avg       0.50      0.50      0.50      1704\n",
      "weighted avg       0.59      0.60      0.60      1704\n",
      "\n",
      "[[898 314]\n",
      " [362 130]]\n",
      "              precision    recall  f1-score   support\n",
      "\n",
      "           0       0.68      0.73      0.70      1099\n",
      "           1       0.32      0.27      0.29       520\n",
      "\n",
      "    accuracy                           0.58      1619\n",
      "   macro avg       0.50      0.50      0.50      1619\n",
      "weighted avg       0.56      0.58      0.57      1619\n",
      "\n",
      "[[798 301]\n",
      " [378 142]]\n",
      "              precision    recall  f1-score   support\n",
      "\n",
      "           0       0.78      0.73      0.75      1326\n",
      "           1       0.22      0.27      0.24       370\n",
      "\n",
      "    accuracy                           0.63      1696\n",
      "   macro avg       0.50      0.50      0.50      1696\n",
      "weighted avg       0.66      0.63      0.64      1696\n",
      "\n",
      "[[963 363]\n",
      " [269 101]]\n"
     ]
    },
    {
     "name": "stderr",
     "output_type": "stream",
     "text": [
      " 71%|███████   | 71/100 [00:07<00:03,  9.37it/s]"
     ]
    },
    {
     "name": "stdout",
     "output_type": "stream",
     "text": [
      "              precision    recall  f1-score   support\n",
      "\n",
      "           0       0.74      0.73      0.74      1540\n",
      "           1       0.25      0.26      0.25       537\n",
      "\n",
      "    accuracy                           0.61      2077\n",
      "   macro avg       0.49      0.49      0.49      2077\n",
      "weighted avg       0.61      0.61      0.61      2077\n",
      "\n",
      "[[1129  411]\n",
      " [ 400  137]]\n",
      "              precision    recall  f1-score   support\n",
      "\n",
      "           0       0.72      0.74      0.73      1023\n",
      "           1       0.28      0.26      0.27       398\n",
      "\n",
      "    accuracy                           0.60      1421\n",
      "   macro avg       0.50      0.50      0.50      1421\n",
      "weighted avg       0.59      0.60      0.60      1421\n",
      "\n",
      "[[753 270]\n",
      " [295 103]]\n"
     ]
    },
    {
     "name": "stderr",
     "output_type": "stream",
     "text": [
      "\r",
      " 73%|███████▎  | 73/100 [00:07<00:02,  9.85it/s]"
     ]
    },
    {
     "name": "stdout",
     "output_type": "stream",
     "text": [
      "              precision    recall  f1-score   support\n",
      "\n",
      "           0       0.72      0.72      0.72      1413\n",
      "           1       0.30      0.29      0.29       571\n",
      "\n",
      "    accuracy                           0.60      1984\n",
      "   macro avg       0.51      0.51      0.51      1984\n",
      "weighted avg       0.59      0.60      0.60      1984\n",
      "\n",
      "[[1018  395]\n",
      " [ 405  166]]\n",
      "              precision    recall  f1-score   support\n",
      "\n",
      "           0       0.53      0.72      0.61      1243\n",
      "           1       0.46      0.27      0.34      1085\n",
      "\n",
      "    accuracy                           0.51      2328\n",
      "   macro avg       0.49      0.49      0.48      2328\n",
      "weighted avg       0.50      0.51      0.48      2328\n",
      "\n",
      "[[891 352]\n",
      " [789 296]]\n",
      "              precision    recall  f1-score   support\n",
      "\n",
      "           0       0.55      0.75      0.64       771\n",
      "           1       0.49      0.27      0.35       656\n",
      "\n",
      "    accuracy                           0.53      1427\n",
      "   macro avg       0.52      0.51      0.49      1427\n",
      "weighted avg       0.52      0.53      0.50      1427\n",
      "\n",
      "[[582 189]\n",
      " [478 178]]\n"
     ]
    },
    {
     "name": "stderr",
     "output_type": "stream",
     "text": [
      " 76%|███████▌  | 76/100 [00:08<00:02,  9.10it/s]"
     ]
    },
    {
     "name": "stdout",
     "output_type": "stream",
     "text": [
      "              precision    recall  f1-score   support\n",
      "\n",
      "           0       0.51      0.71      0.59      1023\n",
      "           1       0.44      0.24      0.31       927\n",
      "\n",
      "    accuracy                           0.49      1950\n",
      "   macro avg       0.47      0.48      0.45      1950\n",
      "weighted avg       0.47      0.49      0.46      1950\n",
      "\n",
      "[[730 293]\n",
      " [701 226]]\n",
      "              precision    recall  f1-score   support\n",
      "\n",
      "           0       0.65      0.73      0.69      1267\n",
      "           1       0.37      0.28      0.32       710\n",
      "\n",
      "    accuracy                           0.57      1977\n",
      "   macro avg       0.51      0.51      0.50      1977\n",
      "weighted avg       0.55      0.57      0.55      1977\n",
      "\n",
      "[[926 341]\n",
      " [509 201]]\n"
     ]
    },
    {
     "name": "stderr",
     "output_type": "stream",
     "text": [
      " 79%|███████▉  | 79/100 [00:08<00:02,  9.87it/s]"
     ]
    },
    {
     "name": "stdout",
     "output_type": "stream",
     "text": [
      "              precision    recall  f1-score   support\n",
      "\n",
      "           0       0.63      0.73      0.68      1270\n",
      "           1       0.36      0.26      0.30       727\n",
      "\n",
      "    accuracy                           0.56      1997\n",
      "   macro avg       0.50      0.50      0.49      1997\n",
      "weighted avg       0.53      0.56      0.54      1997\n",
      "\n",
      "[[932 338]\n",
      " [537 190]]\n",
      "              precision    recall  f1-score   support\n",
      "\n",
      "           0       0.77      0.73      0.75      1848\n",
      "           1       0.21      0.24      0.22       542\n",
      "\n",
      "    accuracy                           0.62      2390\n",
      "   macro avg       0.49      0.49      0.49      2390\n",
      "weighted avg       0.64      0.62      0.63      2390\n",
      "\n",
      "[[1353  495]\n",
      " [ 411  131]]\n",
      "              precision    recall  f1-score   support\n",
      "\n",
      "           0       0.72      0.74      0.73      1077\n",
      "           1       0.28      0.26      0.27       417\n",
      "\n",
      "    accuracy                           0.61      1494\n",
      "   macro avg       0.50      0.50      0.50      1494\n",
      "weighted avg       0.60      0.61      0.61      1494\n",
      "\n",
      "[[801 276]\n",
      " [307 110]]\n"
     ]
    },
    {
     "name": "stderr",
     "output_type": "stream",
     "text": [
      "\r",
      " 81%|████████  | 81/100 [00:08<00:01, 10.49it/s]"
     ]
    },
    {
     "name": "stdout",
     "output_type": "stream",
     "text": [
      "              precision    recall  f1-score   support\n",
      "\n",
      "           0       0.69      0.71      0.70       901\n",
      "           1       0.28      0.26      0.27       389\n",
      "\n",
      "    accuracy                           0.57      1290\n",
      "   macro avg       0.49      0.49      0.49      1290\n",
      "weighted avg       0.57      0.57      0.57      1290\n",
      "\n",
      "[[637 264]\n",
      " [286 103]]\n",
      "              precision    recall  f1-score   support\n",
      "\n",
      "           0       0.70      0.73      0.71      1016\n",
      "           1       0.30      0.27      0.28       440\n",
      "\n",
      "    accuracy                           0.59      1456\n",
      "   macro avg       0.50      0.50      0.50      1456\n",
      "weighted avg       0.58      0.59      0.58      1456\n",
      "\n",
      "[[740 276]\n",
      " [322 118]]\n",
      "              precision    recall  f1-score   support\n",
      "\n",
      "           0       0.65      0.72      0.68      1287\n",
      "           1       0.33      0.26      0.29       674\n",
      "\n",
      "    accuracy                           0.56      1961\n",
      "   macro avg       0.49      0.49      0.49      1961\n",
      "weighted avg       0.54      0.56      0.55      1961\n",
      "\n",
      "[[927 360]\n",
      " [500 174]]\n"
     ]
    },
    {
     "name": "stderr",
     "output_type": "stream",
     "text": [
      "\r",
      " 83%|████████▎ | 83/100 [00:08<00:01, 10.56it/s]"
     ]
    },
    {
     "name": "stdout",
     "output_type": "stream",
     "text": [
      "              precision    recall  f1-score   support\n",
      "\n",
      "           0       0.69      0.71      0.70      1410\n",
      "           1       0.35      0.32      0.34       661\n",
      "\n",
      "    accuracy                           0.59      2071\n",
      "   macro avg       0.52      0.52      0.52      2071\n",
      "weighted avg       0.58      0.59      0.59      2071\n",
      "\n",
      "[[1008  402]\n",
      " [ 447  214]]\n",
      "              precision    recall  f1-score   support\n",
      "\n",
      "           0       0.52      0.72      0.61      1218\n",
      "           1       0.46      0.27      0.34      1087\n",
      "\n",
      "    accuracy                           0.51      2305\n",
      "   macro avg       0.49      0.49      0.47      2305\n",
      "weighted avg       0.49      0.51      0.48      2305\n",
      "\n",
      "[[877 341]\n",
      " [795 292]]\n"
     ]
    },
    {
     "name": "stderr",
     "output_type": "stream",
     "text": [
      " 86%|████████▌ | 86/100 [00:09<00:01,  8.79it/s]"
     ]
    },
    {
     "name": "stdout",
     "output_type": "stream",
     "text": [
      "              precision    recall  f1-score   support\n",
      "\n",
      "           0       0.59      0.73      0.66      1109\n",
      "           1       0.40      0.26      0.32       764\n",
      "\n",
      "    accuracy                           0.54      1873\n",
      "   macro avg       0.50      0.50      0.49      1873\n",
      "weighted avg       0.52      0.54      0.52      1873\n",
      "\n",
      "[[815 294]\n",
      " [564 200]]\n",
      "              precision    recall  f1-score   support\n",
      "\n",
      "           0       0.73      0.73      0.73      1818\n",
      "           1       0.29      0.29      0.29       688\n",
      "\n",
      "    accuracy                           0.61      2506\n",
      "   macro avg       0.51      0.51      0.51      2506\n",
      "weighted avg       0.61      0.61      0.61      2506\n",
      "\n",
      "[[1333  485]\n",
      " [ 491  197]]\n"
     ]
    },
    {
     "name": "stderr",
     "output_type": "stream",
     "text": [
      "\r",
      " 87%|████████▋ | 87/100 [00:09<00:01,  8.53it/s]"
     ]
    },
    {
     "name": "stdout",
     "output_type": "stream",
     "text": [
      "              precision    recall  f1-score   support\n",
      "\n",
      "           0       0.65      0.72      0.68      1184\n",
      "           1       0.35      0.29      0.32       640\n",
      "\n",
      "    accuracy                           0.57      1824\n",
      "   macro avg       0.50      0.50      0.50      1824\n",
      "weighted avg       0.55      0.57      0.55      1824\n",
      "\n",
      "[[849 335]\n",
      " [457 183]]\n",
      "              precision    recall  f1-score   support\n",
      "\n",
      "           0       0.42      0.72      0.53       714\n",
      "           1       0.56      0.26      0.35       975\n",
      "\n",
      "    accuracy                           0.45      1689\n",
      "   macro avg       0.49      0.49      0.44      1689\n",
      "weighted avg       0.50      0.45      0.43      1689\n",
      "\n",
      "[[517 197]\n",
      " [724 251]]\n"
     ]
    },
    {
     "name": "stderr",
     "output_type": "stream",
     "text": [
      " 90%|█████████ | 90/100 [00:09<00:01,  8.79it/s]"
     ]
    },
    {
     "name": "stdout",
     "output_type": "stream",
     "text": [
      "              precision    recall  f1-score   support\n",
      "\n",
      "           0       0.75      0.73      0.74      1580\n",
      "           1       0.28      0.30      0.29       549\n",
      "\n",
      "    accuracy                           0.62      2129\n",
      "   macro avg       0.52      0.52      0.52      2129\n",
      "weighted avg       0.63      0.62      0.62      2129\n",
      "\n",
      "[[1153  427]\n",
      " [ 383  166]]\n",
      "              precision    recall  f1-score   support\n",
      "\n",
      "           0       0.74      0.72      0.73      1407\n",
      "           1       0.24      0.26      0.25       482\n",
      "\n",
      "    accuracy                           0.60      1889\n",
      "   macro avg       0.49      0.49      0.49      1889\n",
      "weighted avg       0.61      0.60      0.61      1889\n",
      "\n",
      "[[1013  394]\n",
      " [ 359  123]]\n"
     ]
    },
    {
     "name": "stderr",
     "output_type": "stream",
     "text": [
      " 92%|█████████▏| 92/100 [00:09<00:00,  8.50it/s]"
     ]
    },
    {
     "name": "stdout",
     "output_type": "stream",
     "text": [
      "              precision    recall  f1-score   support\n",
      "\n",
      "           0       0.58      0.74      0.65      1442\n",
      "           1       0.42      0.26      0.32      1043\n",
      "\n",
      "    accuracy                           0.54      2485\n",
      "   macro avg       0.50      0.50      0.48      2485\n",
      "weighted avg       0.51      0.54      0.51      2485\n",
      "\n",
      "[[1061  381]\n",
      " [ 772  271]]\n",
      "              precision    recall  f1-score   support\n",
      "\n",
      "           0       0.62      0.73      0.67      1330\n",
      "           1       0.37      0.27      0.31       803\n",
      "\n",
      "    accuracy                           0.55      2133\n",
      "   macro avg       0.50      0.50      0.49      2133\n",
      "weighted avg       0.53      0.55      0.54      2133\n",
      "\n",
      "[[967 363]\n",
      " [587 216]]\n"
     ]
    },
    {
     "name": "stderr",
     "output_type": "stream",
     "text": [
      " 94%|█████████▍| 94/100 [00:10<00:00,  7.43it/s]"
     ]
    },
    {
     "name": "stdout",
     "output_type": "stream",
     "text": [
      "              precision    recall  f1-score   support\n",
      "\n",
      "           0       0.62      0.74      0.68       824\n",
      "           1       0.42      0.29      0.35       532\n",
      "\n",
      "    accuracy                           0.57      1356\n",
      "   macro avg       0.52      0.52      0.51      1356\n",
      "weighted avg       0.54      0.57      0.55      1356\n",
      "\n",
      "[[612 212]\n",
      " [376 156]]\n",
      "              precision    recall  f1-score   support\n",
      "\n",
      "           0       0.62      0.76      0.68       793\n",
      "           1       0.42      0.28      0.34       508\n",
      "\n",
      "    accuracy                           0.57      1301\n",
      "   macro avg       0.52      0.52      0.51      1301\n",
      "weighted avg       0.54      0.57      0.55      1301\n",
      "\n",
      "[[599 194]\n",
      " [366 142]]\n"
     ]
    },
    {
     "name": "stderr",
     "output_type": "stream",
     "text": [
      " 96%|█████████▌| 96/100 [00:10<00:00,  7.15it/s]"
     ]
    },
    {
     "name": "stdout",
     "output_type": "stream",
     "text": [
      "              precision    recall  f1-score   support\n",
      "\n",
      "           0       0.76      0.75      0.75      1571\n",
      "           1       0.27      0.28      0.28       520\n",
      "\n",
      "    accuracy                           0.63      2091\n",
      "   macro avg       0.51      0.51      0.51      2091\n",
      "weighted avg       0.64      0.63      0.63      2091\n",
      "\n",
      "[[1172  399]\n",
      " [ 373  147]]\n",
      "              precision    recall  f1-score   support\n",
      "\n",
      "           0       0.71      0.73      0.72      1552\n",
      "           1       0.26      0.24      0.25       601\n",
      "\n",
      "    accuracy                           0.59      2153\n",
      "   macro avg       0.48      0.49      0.48      2153\n",
      "weighted avg       0.59      0.59      0.59      2153\n",
      "\n",
      "[[1134  418]\n",
      " [ 457  144]]\n"
     ]
    },
    {
     "name": "stderr",
     "output_type": "stream",
     "text": [
      " 98%|█████████▊| 98/100 [00:10<00:00,  7.39it/s]"
     ]
    },
    {
     "name": "stdout",
     "output_type": "stream",
     "text": [
      "              precision    recall  f1-score   support\n",
      "\n",
      "           0       0.72      0.74      0.73      1602\n",
      "           1       0.32      0.29      0.30       659\n",
      "\n",
      "    accuracy                           0.61      2261\n",
      "   macro avg       0.52      0.52      0.52      2261\n",
      "weighted avg       0.60      0.61      0.61      2261\n",
      "\n",
      "[[1192  410]\n",
      " [ 469  190]]\n",
      "              precision    recall  f1-score   support\n",
      "\n",
      "           0       0.65      0.73      0.69      1173\n",
      "           1       0.32      0.24      0.28       609\n",
      "\n",
      "    accuracy                           0.57      1782\n",
      "   macro avg       0.49      0.49      0.48      1782\n",
      "weighted avg       0.54      0.57      0.55      1782\n",
      "\n",
      "[[861 312]\n",
      " [461 148]]\n"
     ]
    },
    {
     "name": "stderr",
     "output_type": "stream",
     "text": [
      "100%|██████████| 100/100 [00:11<00:00,  8.98it/s]"
     ]
    },
    {
     "name": "stdout",
     "output_type": "stream",
     "text": [
      "              precision    recall  f1-score   support\n",
      "\n",
      "           0       0.68      0.74      0.71      1415\n",
      "           1       0.33      0.26      0.29       681\n",
      "\n",
      "    accuracy                           0.59      2096\n",
      "   macro avg       0.50      0.50      0.50      2096\n",
      "weighted avg       0.56      0.59      0.57      2096\n",
      "\n",
      "[[1052  363]\n",
      " [ 502  179]]\n",
      "              precision    recall  f1-score   support\n",
      "\n",
      "           0       0.84      0.74      0.79      1602\n",
      "           1       0.16      0.27      0.20       300\n",
      "\n",
      "    accuracy                           0.67      1902\n",
      "   macro avg       0.50      0.50      0.50      1902\n",
      "weighted avg       0.74      0.67      0.70      1902\n",
      "\n",
      "[[1187  415]\n",
      " [ 220   80]]\n"
     ]
    },
    {
     "name": "stderr",
     "output_type": "stream",
     "text": [
      "\n"
     ]
    }
   ],
   "source": [
    "prior = df.y.sum()/df.shape[0]\n",
    "\n",
    "\n",
    "accs = []\n",
    "bal_accs = []\n",
    "\n",
    "for _ in tqdm(range(100)):\n",
    "    words_shuffled = np.random.permutation(mldf.target.unique())\n",
    "\n",
    "    ratio = int(mldf.target.unique().shape[0]*0.8)\n",
    "    train_words = set(words_shuffled[:ratio])\n",
    "    msk = mldf.target.isin(train_words)\n",
    "\n",
    "    # msk = np.random.rand(len(mldf)) < 0.7\n",
    "\n",
    "    train_df = mldf[msk]\n",
    "    test_df = mldf[~msk]\n",
    "\n",
    "\n",
    "    target_train, anno_train, Y_train = (np.stack(train_df.target.apply(lambda w: scaled[mat_inds[w]])), \n",
    "                                         train_df.iloc[:, 5:].to_numpy(), \n",
    "                                         train_df.maj_vote.to_numpy())\n",
    "\n",
    "    target_test, anno_test, Y_test = (np.stack(test_df.target.apply(lambda w: scaled[mat_inds[w]])),\n",
    "                                        test_df.iloc[:, 5:].to_numpy(),\n",
    "                                        test_df.maj_vote.to_numpy())\n",
    "\n",
    "    X_train, X_test = np.hstack([target_train, anno_train]), np.hstack([target_test, anno_test])\n",
    "    \n",
    "    \n",
    "\n",
    "\n",
    "\n",
    "#     baseline_preds = np.zeros_like(Y_test)\n",
    "    baseline_preds = np.random.choice(2, size=Y_test.shape, p=[1-prior, prior])\n",
    "\n",
    "\n",
    "    print(classification_report(Y_test, baseline_preds))\n",
    "    b = balanced_accuracy_score(Y_test, baseline_preds)\n",
    "    a = accuracy_score(Y_test, baseline_preds)\n",
    "    bal_accs.append(b)\n",
    "    accs.append(a)\n",
    "\n",
    "\n",
    "    cm = confusion_matrix(Y_test, baseline_preds)\n",
    "\n",
    "    print(cm)\n"
   ]
  },
  {
   "cell_type": "code",
   "execution_count": 25,
   "id": "5e2d1aad",
   "metadata": {},
   "outputs": [
    {
     "name": "stderr",
     "output_type": "stream",
     "text": [
      "/home/valentin/.local/lib/python3.9/site-packages/seaborn/distributions.py:2557: FutureWarning: `distplot` is a deprecated function and will be removed in a future version. Please adapt your code to use either `displot` (a figure-level function with similar flexibility) or `histplot` (an axes-level function for histograms).\n",
      "  warnings.warn(msg, FutureWarning)\n",
      "/home/valentin/.local/lib/python3.9/site-packages/seaborn/distributions.py:2557: FutureWarning: `distplot` is a deprecated function and will be removed in a future version. Please adapt your code to use either `displot` (a figure-level function with similar flexibility) or `histplot` (an axes-level function for histograms).\n",
      "  warnings.warn(msg, FutureWarning)\n"
     ]
    },
    {
     "data": {
      "image/png": "[encoded data removed]",
      "text/plain": [
       "<Figure size 432x288 with 1 Axes>"
      ]
     },
     "metadata": {
      "needs_background": "light"
     },
     "output_type": "display_data"
    }
   ],
   "source": [
    "_=sns.distplot(bal_accs, bins=20)\n",
    "_=sns.distplot(accs, bins=20)"
   ]
  },
  {
   "cell_type": "code",
   "execution_count": 23,
   "id": "2df1f543",
   "metadata": {},
   "outputs": [
    {
     "name": "stderr",
     "output_type": "stream",
     "text": [
      "/home/valentin/.local/lib/python3.9/site-packages/seaborn/distributions.py:2557: FutureWarning: `distplot` is a deprecated function and will be removed in a future version. Please adapt your code to use either `displot` (a figure-level function with similar flexibility) or `histplot` (an axes-level function for histograms).\n",
      "  warnings.warn(msg, FutureWarning)\n",
      "/home/valentin/.local/lib/python3.9/site-packages/seaborn/distributions.py:306: UserWarning: Dataset has 0 variance; skipping density estimate.\n",
      "  warnings.warn(msg, UserWarning)\n",
      "/home/valentin/.local/lib/python3.9/site-packages/seaborn/distributions.py:2557: FutureWarning: `distplot` is a deprecated function and will be removed in a future version. Please adapt your code to use either `displot` (a figure-level function with similar flexibility) or `histplot` (an axes-level function for histograms).\n",
      "  warnings.warn(msg, FutureWarning)\n"
     ]
    },
    {
     "data": {
      "image/png": "[encoded data removed]",
      "text/plain": [
       "<Figure size 432x288 with 1 Axes>"
      ]
     },
     "metadata": {
      "needs_background": "light"
     },
     "output_type": "display_data"
    }
   ],
   "source": [
    "_=sns.distplot(bal_accs, bins=20)\n",
    "_=sns.distplot(accs, bins=20)"
   ]
  },
  {
   "cell_type": "markdown",
   "id": "87915a55",
   "metadata": {},
   "source": [
    "---\n",
    "\n",
    "# `statsmodels` baseline"
   ]
  },
  {
   "cell_type": "code",
   "execution_count": 11,
   "id": "20b1718c",
   "metadata": {},
   "outputs": [
    {
     "name": "stderr",
     "output_type": "stream",
     "text": [
      "100%|██████████| 30/30 [00:31<00:00,  1.04s/it]\n"
     ]
    }
   ],
   "source": [
    "import statsmodels.api as sm\n",
    "\n",
    "pvals= []\n",
    "\n",
    "\n",
    "for _ in tqdm(range(30)):\n",
    "    words_shuffled = np.random.permutation(mldf.target.unique())\n",
    "\n",
    "    ratio = int(mldf.target.unique().shape[0]*0.8)\n",
    "    train_words = set(words_shuffled[:ratio])\n",
    "    msk = mldf.target.isin(train_words)\n",
    "\n",
    "\n",
    "    train_df = mldf[msk]\n",
    "    test_df = mldf[~msk]\n",
    "\n",
    "\n",
    "    target_train, anno_train, Y_train = (np.stack(train_df.target.apply(lambda w: scaled[mat_inds[w]])), \n",
    "                                             train_df.iloc[:, 5:].to_numpy(), \n",
    "                                             train_df.maj_vote.to_numpy())\n",
    "\n",
    "    target_test, anno_test, Y_test = (np.stack(test_df.target.apply(lambda w: scaled[mat_inds[w]])),\n",
    "                                            test_df.iloc[:, 5:].to_numpy(),\n",
    "                                            test_df.maj_vote.to_numpy())\n",
    "\n",
    "    target_train = np.zeros_like(target_train)\n",
    "\n",
    "\n",
    "    X_train, X_test = np.hstack([target_train, anno_train]), np.hstack([target_test, anno_test])\n",
    "\n",
    "\n",
    "\n",
    "\n",
    "    X = sm.add_constant(X_train)    \n",
    "\n",
    "    results = sm.OLS(Y_train, X).fit()\n",
    "\n",
    "    results.summary()\n",
    "    \n",
    "    pvals.append((results.pvalues[:100] < 0.05).sum())"
   ]
  },
  {
   "cell_type": "code",
   "execution_count": 12,
   "id": "c30a3821",
   "metadata": {},
   "outputs": [
    {
     "data": {
      "text/plain": [
       "(11.49193093488863, 21.97473573177804)"
      ]
     },
     "execution_count": 12,
     "metadata": {},
     "output_type": "execute_result"
    }
   ],
   "source": [
    "import scipy.stats as st\n",
    "\n",
    "st.t.interval(0.95, len(pvals)-1, loc=np.mean(pvals), scale=st.sem(pvals))"
   ]
  },
  {
   "cell_type": "code",
   "execution_count": 40,
   "id": "0015a876",
   "metadata": {},
   "outputs": [],
   "source": [
    "mldf.iloc[:, :5].to_csv(\"regression_df.csv\")"
   ]
  }
 ],
 "metadata": {
  "kernelspec": {
   "display_name": "Python 3",
   "language": "python",
   "name": "python3"
  },
  "language_info": {
   "codemirror_mode": {
    "name": "ipython",
    "version": 3
   },
   "file_extension": ".py",
   "mimetype": "text/x-python",
   "name": "python",
   "nbconvert_exporter": "python",
   "pygments_lexer": "ipython3",
   "version": "3.9.6"
  }
 },
 "nbformat": 4,
 "nbformat_minor": 5
}
