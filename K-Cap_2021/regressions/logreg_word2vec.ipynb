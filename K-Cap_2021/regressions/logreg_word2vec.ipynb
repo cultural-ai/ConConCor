{
 "cells": [
  {
   "cell_type": "code",
   "execution_count": 2,
   "id": "f677c3b8",
   "metadata": {},
   "outputs": [],
   "source": [
    "from tqdm import tqdm\n",
    "import joblib\n",
    "from collections import Counter\n",
    "\n",
    "import pandas as pd\n",
    "import numpy as np\n",
    "\n",
    "\n",
    "import matplotlib.pyplot as plt\n",
    "import seaborn as sns\n",
    "\n",
    "from sklearn.preprocessing import StandardScaler\n",
    "\n",
    "from utils import get_DF, get_indices\n",
    "\n",
    "from gensim.models import Word2Vec\n",
    "\n",
    "\n",
    "from sklearn.linear_model import LogisticRegression, LogisticRegressionCV\n",
    "from sklearn.model_selection import GridSearchCV"
   ]
  },
  {
   "cell_type": "code",
   "execution_count": 3,
   "id": "de2f9445",
   "metadata": {},
   "outputs": [],
   "source": [
    "df = get_DF()"
   ]
  },
  {
   "cell_type": "code",
   "execution_count": 17,
   "id": "dbd75471",
   "metadata": {},
   "outputs": [
    {
     "name": "stderr",
     "output_type": "stream",
     "text": [
      "100%|██████████| 72/72 [00:00<00:00, 42823.30it/s]\n",
      "/home/valentin/.local/lib/python3.9/site-packages/IPython/core/interactiveshell.py:3361: FutureWarning: arrays to stack must be passed as a \"sequence\" type such as list or tuple. Support for non-sequence iterables such as generators is deprecated as of NumPy 1.16 and will raise an error in the future.\n",
      "  if (await self.run_code(code, result,  async_=asy)):\n"
     ]
    }
   ],
   "source": [
    "w2v = Word2Vec.load(\"CCC_embeddings/embeddings/w2v.model\")    \n",
    "\n",
    "target_vecs = {}\n",
    "for trgt in tqdm(df.target.unique()):\n",
    "    if trgt in w2v.wv:\n",
    "        target_vecs[trgt] = w2v.wv[trgt]\n",
    "\n",
    "df = df[df.target.isin(target_vecs.keys())]        \n",
    " \n",
    "scaler = StandardScaler(with_mean=False).fit(np.stack(target_vecs.values()))\n",
    "\n",
    "target_vecs = {w: scaler.transform(v.reshape((1, -1))).reshape((-1,)) for w, v in target_vecs.items()}"
   ]
  },
  {
   "cell_type": "code",
   "execution_count": 18,
   "id": "9f4e24f6",
   "metadata": {},
   "outputs": [],
   "source": [
    "target_annotations = {x:list(subdf.y) for x, subdf in df.groupby([\"annotator_x\", \"target\"])}\n",
    "xs, y = list(zip(*target_annotations.items()))\n",
    "x_anno, x_target = list(zip(*xs))\n",
    "\n",
    "mldf = pd.DataFrame([x_anno, x_target, y]).T\n",
    "mldf.columns = [\"x_anno\", \"target\", \"y_ls\"]\n",
    "\n",
    "mldf[\"ratio\"] = mldf.y_ls.apply(lambda ls: sum(ls)/len(ls))\n",
    "mldf = mldf[mldf.ratio != 0.5]\n",
    "mldf[\"maj_vote\"] = mldf.ratio.apply(lambda r: int(r > 0.5))\n",
    "\n",
    "mldf = pd.concat([mldf, pd.get_dummies(mldf[\"x_anno\"])], axis=1)"
   ]
  },
  {
   "cell_type": "code",
   "execution_count": 19,
   "id": "4671221a",
   "metadata": {},
   "outputs": [],
   "source": [
    "words_shuffled = np.random.permutation(mldf.target.unique())\n",
    "\n",
    "ratio = int(mldf.target.unique().shape[0]*0.8)\n",
    "train_words = set(words_shuffled[:ratio])\n",
    "msk = mldf.target.isin(train_words)\n",
    "\n",
    "    # msk = np.random.rand(len(mldf)) < 0.7\n",
    "\n",
    "train_df = mldf[msk]\n",
    "test_df = mldf[~msk]\n",
    "\n",
    "\n",
    "target_train, anno_train, Y_train = (np.stack(train_df.target.apply(lambda w: target_vecs[w])), \n",
    "                                         train_df.iloc[:, 5:].to_numpy(), \n",
    "                                         train_df.maj_vote.to_numpy())\n",
    "\n",
    "target_test, anno_test, Y_test = (np.stack(test_df.target.apply(lambda w: target_vecs[w])),\n",
    "                                        test_df.iloc[:, 5:].to_numpy(),\n",
    "                                        test_df.maj_vote.to_numpy())\n",
    "\n",
    "X_train, X_test = np.hstack([target_train, anno_train]), np.hstack([target_test, anno_test])\n",
    "    "
   ]
  },
  {
   "cell_type": "code",
   "execution_count": 21,
   "id": "2b1954a9",
   "metadata": {},
   "outputs": [
    {
     "name": "stdout",
     "output_type": "stream",
     "text": [
      "              precision    recall  f1-score   support\n",
      "\n",
      "           0       0.76      0.64      0.70      1452\n",
      "           1       0.43      0.57      0.49       688\n",
      "\n",
      "    accuracy                           0.62      2140\n",
      "   macro avg       0.60      0.61      0.59      2140\n",
      "weighted avg       0.65      0.62      0.63      2140\n",
      "\n",
      "0.6079245147030559\n",
      "0.6210280373831776\n",
      "[[936 516]\n",
      " [295 393]]\n"
     ]
    },
    {
     "data": {
      "image/png": "[encoded data removed]",
      "text/plain": [
       "<Figure size 432x288 with 1 Axes>"
      ]
     },
     "metadata": {
      "needs_background": "light"
     },
     "output_type": "display_data"
    }
   ],
   "source": [
    "if True:\n",
    "    \n",
    "    \n",
    "    logreg = LogisticRegression(penalty=\"none\", max_iter=5000, solver=\"lbfgs\")\n",
    "\n",
    "    logreg.fit(X_train, Y_train)\n",
    "    \n",
    "    \n",
    "    \n",
    "    # Logistic Regression\n",
    "\n",
    "    from sklearn.metrics import balanced_accuracy_score, classification_report, accuracy_score,\\\n",
    "                                    confusion_matrix, plot_roc_curve\n",
    "\n",
    "    preds = logreg.predict(X_test)\n",
    "\n",
    "    print(classification_report(Y_test, preds))\n",
    "    b = balanced_accuracy_score(Y_test, preds)\n",
    "    a = accuracy_score(Y_test, preds)\n",
    "    print(b)\n",
    "    print(a)\n",
    "\n",
    "    cm = confusion_matrix(Y_test, preds)\n",
    "\n",
    "    print(cm)\n",
    "\n",
    "    plot_roc_curve(logreg, X_test, Y_test)\n",
    "    _=plt.plot([0,1], [0,1], \"--\", c=\"r\")"
   ]
  }
 ],
 "metadata": {
  "kernelspec": {
   "display_name": "Python 3",
   "language": "python",
   "name": "python3"
  },
  "language_info": {
   "codemirror_mode": {
    "name": "ipython",
    "version": 3
   },
   "file_extension": ".py",
   "mimetype": "text/x-python",
   "name": "python",
   "nbconvert_exporter": "python",
   "pygments_lexer": "ipython3",
   "version": "3.9.6"
  }
 },
 "nbformat": 4,
 "nbformat_minor": 5
}
